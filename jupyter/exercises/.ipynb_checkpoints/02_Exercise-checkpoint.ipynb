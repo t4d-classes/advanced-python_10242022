{
 "cells": [
  {
   "cell_type": "markdown",
   "id": "2516a108-c093-4438-881f-a2af02e4ff61",
   "metadata": {},
   "source": [
    "# Exercise #2"
   ]
  },
  {
   "cell_type": "markdown",
   "id": "e83448a1-0cda-4b58-9315-b893885bc414",
   "metadata": {},
   "source": [
    "Step 1. Use the Python Standard Library to read the currency data for 2020 from the \"eurofxref-hist.csv\"."
   ]
  },
  {
   "cell_type": "code",
   "execution_count": 16,
   "id": "8cdcc00d-fdde-48a3-99ad-0c4e37681993",
   "metadata": {},
   "outputs": [],
   "source": [
    "# Step 1 Solution\n",
    "\n",
    "import csv\n",
    "\n",
    "data = []\n",
    "\n",
    "with open(\"data/eurofxref-hist.csv\") as csv_file:\n",
    "    \n",
    "    csv_reader = csv.DictReader(csv_file)\n",
    "    \n",
    "    for row in csv_reader:\n",
    "        data.append(row)\n",
    "        \n",
    "# data[:10]"
   ]
  },
  {
   "cell_type": "markdown",
   "id": "e96fc032-94af-4946-8e39-6fe145e9d48d",
   "metadata": {},
   "source": [
    "Step 2. Create a new NumPy Array from the loaded currency data. The array should only contain the following columns: USD, CAD, JPY, and the RUB. Only load the data for the year 2020."
   ]
  },
  {
   "cell_type": "code",
   "execution_count": 32,
   "id": "860c0cb6-36ee-48e7-8ab5-44965311ed31",
   "metadata": {},
   "outputs": [
    {
     "name": "stdout",
     "output_type": "stream",
     "text": [
      "(257, 4)\n",
      "1028\n",
      "257\n"
     ]
    }
   ],
   "source": [
    "# Step 2 Solution\n",
    "\n",
    "import numpy as np\n",
    "\n",
    "rates = []\n",
    "\n",
    "for row in data:\n",
    "    \n",
    "    if row[\"Date\"].startswith('2020'):\n",
    "        rates.append([\n",
    "            float(row[\"USD\"]),\n",
    "            float(row[\"CAD\"]),\n",
    "            float(row[\"JPY\"]),\n",
    "            float(row[\"RUB\"]),\n",
    "        ])\n",
    "        \n",
    "rates = np.array(rates, dtype=np.int16)\n",
    "\n",
    "print(rates.shape)\n",
    "print(rates.size)\n",
    "print(len(rates)) # number of rows"
   ]
  },
  {
   "cell_type": "markdown",
   "id": "855d3882-1506-4251-a74d-e7926465d2d5",
   "metadata": {},
   "source": [
    "Step 3. Add a new column for EUR data. Initialized each element with a 1. Display the new array with the USD, CAD, JPY, RUB, and EUR columns."
   ]
  },
  {
   "cell_type": "code",
   "execution_count": 18,
   "id": "c4f82e3b-7c73-464f-bfaa-472e5b80c343",
   "metadata": {},
   "outputs": [
    {
     "name": "stdout",
     "output_type": "stream",
     "text": [
      "(257, 5)\n"
     ]
    },
    {
     "data": {
      "text/plain": [
       "array([  1.    ,   1.2271,   1.5633, 126.49  ,  91.4671])"
      ]
     },
     "execution_count": 18,
     "metadata": {},
     "output_type": "execute_result"
    }
   ],
   "source": [
    "# Step 3 Solution\n",
    "\n",
    "eur_rates = np.ones(rates.shape[0])\n",
    "\n",
    "all_rates = np.column_stack([ eur_rates, rates])\n",
    "\n",
    "print(all_rates.shape)\n",
    "all_rates[0]"
   ]
  },
  {
   "cell_type": "markdown",
   "id": "35e8f7c9-f825-43ad-8900-a6f6d4e0fc81",
   "metadata": {},
   "source": [
    "Step 4. The currency rates are all calculated with respect to the EUR. Update the rates to be calculated with respect to the USD. For each currency column on each row, divide each currency by the value for the USD. Display the array."
   ]
  },
  {
   "cell_type": "code",
   "execution_count": 29,
   "id": "75b4d122-abef-41f3-8521-ac1165136e13",
   "metadata": {},
   "outputs": [
    {
     "data": {
      "text/plain": [
       "array([ 0.63967249,  0.78494211,  1.        , 80.91217297, 58.5089874 ])"
      ]
     },
     "execution_count": 29,
     "metadata": {},
     "output_type": "execute_result"
    }
   ],
   "source": [
    "# Step 4 Solution\n",
    "\n",
    "# for row_index in range(all_rates.shape[0]):\n",
    "#     all_rates[row_index] = all_rates[row_index] / all_rates[row_index,1]\n",
    "\n",
    "# display(all_rates[:, 1, np.newaxis])\n",
    "\n",
    "\n",
    "# display(all_rates.shape)\n",
    "# display(all_rates[:, 1, np.newaxis].shape)\n",
    "\n",
    "# all_rates /= all_rates[:, 1, np.newaxis] # USD\n",
    "all_rates /= all_rates[:, 2, np.newaxis] # CAD\n",
    "    \n",
    "    \n",
    "all_rates[0]\n"
   ]
  },
  {
   "cell_type": "markdown",
   "id": "9a28ba22-e544-49e3-ae67-14a1e994b381",
   "metadata": {},
   "source": [
    "Step 5. For the EUR, what was the max and min value for 2020? What was the max and min value for the RUB?"
   ]
  },
  {
   "cell_type": "code",
   "execution_count": 30,
   "id": "389b2675-eb4e-4fc2-b5c1-d2162900b8b7",
   "metadata": {},
   "outputs": [
    {
     "name": "stdout",
     "output_type": "stream",
     "text": [
      "0.629009938357026\n",
      "0.7002310762551641\n",
      "74.78570067940822\n",
      "84.49384787472036\n"
     ]
    }
   ],
   "source": [
    "# Step 5 Solution\n",
    "\n",
    "print(all_rates[:,0].min())\n",
    "print(all_rates[:,0].max())\n",
    "\n",
    "print(all_rates[:,3].min())\n",
    "print(all_rates[:,3].max())"
   ]
  },
  {
   "cell_type": "markdown",
   "id": "89959cce-6d84-4d9a-ac06-3940c2fac356",
   "metadata": {},
   "source": [
    "Step 6. Plot the price of the EUR, USD, and JPY for each \"day\". The day number should be represented on the X-axis, and price of the currency on the Y-axis."
   ]
  },
  {
   "cell_type": "code",
   "execution_count": 31,
   "id": "92ef5617-a234-4f29-a879-adb60c7fadc3",
   "metadata": {},
   "outputs": [
    {
     "data": {
      "image/png": "[encoded data removed]",
      "text/plain": [
       "<Figure size 432x288 with 1 Axes>"
      ]
     },
     "metadata": {
      "needs_background": "light"
     },
     "output_type": "display_data"
    }
   ],
   "source": [
    "# Step 6 Solution\n",
    "\n",
    "from matplotlib import pyplot as plt\n",
    "\n",
    "%matplotlib inline\n",
    "\n",
    "plt.plot(all_rates[:,0], label=\"EUR\", color=\"blue\")\n",
    "plt.plot(all_rates[:,1], label=\"USD\", color=\"green\")\n",
    "plt.plot(all_rates[:,2], label=\"CAD\", color=\"orange\")\n",
    "\n",
    "plt.title('Currency Rates by Day in 2020')\n",
    "plt.xlabel('Day of the Year')\n",
    "plt.ylabel('Rate')\n",
    "plt.legend(loc='center right')\n",
    "           \n",
    "plt.show()"
   ]
  },
  {
   "cell_type": "code",
   "execution_count": null,
   "id": "404f8321-c961-4291-87d1-07f25b61d8a9",
   "metadata": {},
   "outputs": [],
   "source": []
  }
 ],
 "metadata": {
  "kernelspec": {
   "display_name": "Python 3 (ipykernel)",
   "language": "python",
   "name": "python3"
  },
  "language_info": {
   "codemirror_mode": {
    "name": "ipython",
    "version": 3
   },
   "file_extension": ".py",
   "mimetype": "text/x-python",
   "name": "python",
   "nbconvert_exporter": "python",
   "pygments_lexer": "ipython3",
   "version": "3.10.6"
  }
 },
 "nbformat": 4,
 "nbformat_minor": 5
}
