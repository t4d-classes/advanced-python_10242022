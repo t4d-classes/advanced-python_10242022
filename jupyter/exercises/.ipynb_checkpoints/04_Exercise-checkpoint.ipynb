{
 "cells": [
  {
   "cell_type": "markdown",
   "id": "96612e18-dcb5-48f6-adb5-25482746f6a2",
   "metadata": {},
   "source": [
    "# Exercise #4"
   ]
  },
  {
   "cell_type": "markdown",
   "id": "1791971d-2d7c-49b3-8032-1f803aa3765b",
   "metadata": {},
   "source": [
    "Step 1. Use the file `us_cities_by_population_2010.csv` to create a data series. Display the data series. The city/state should be the index."
   ]
  },
  {
   "cell_type": "code",
   "execution_count": null,
   "id": "a90298ae-d1c2-44ff-934c-0a2352409653",
   "metadata": {},
   "outputs": [],
   "source": [
    "# Step 1 Solution\n"
   ]
  },
  {
   "cell_type": "markdown",
   "id": "a2fb9870-0697-42d2-bffa-d2e5b061c7ff",
   "metadata": {},
   "source": [
    "Step 2. Use the file `us_cities_by_population_2020.csv` to create a data series. Display the data series. The city/state should be the index."
   ]
  },
  {
   "cell_type": "code",
   "execution_count": null,
   "id": "32def2eb-33bc-44a1-af72-cf480aa63fb0",
   "metadata": {},
   "outputs": [],
   "source": [
    "# Step 2 Solution\n"
   ]
  },
  {
   "cell_type": "markdown",
   "id": "f3bbd338-e147-4c3c-94c1-c929b49ce305",
   "metadata": {},
   "source": [
    "Step 3. Produce a data frame using the two data series/frames. Display the data frame below."
   ]
  },
  {
   "cell_type": "code",
   "execution_count": null,
   "id": "db4769cc-c9bc-4dd8-91ea-59024baafddf",
   "metadata": {},
   "outputs": [],
   "source": [
    "# Step 3 Solution\n"
   ]
  },
  {
   "cell_type": "markdown",
   "id": "e30b02d1-a246-4821-a4f9-914f7d0bcfa3",
   "metadata": {},
   "source": [
    "Step 4. Load the 2016 land area for each city from the `us_cities_by_land_area_2016.csv` file. Add the data to data frame."
   ]
  },
  {
   "cell_type": "code",
   "execution_count": null,
   "id": "6a262975-29e9-4291-b82b-6655a29b2161",
   "metadata": {},
   "outputs": [],
   "source": [
    "# Step 4 Solution\n"
   ]
  },
  {
   "cell_type": "markdown",
   "id": "d79f7827-311d-4ca1-8b97-e2fc40779046",
   "metadata": {},
   "source": [
    "Step 5. Calculate a new column for the percent change in population from 2010 to 2020."
   ]
  },
  {
   "cell_type": "code",
   "execution_count": null,
   "id": "5afedb28-a09e-4825-ae01-065c8bf04baf",
   "metadata": {},
   "outputs": [],
   "source": [
    "# Step 5 Solution\n"
   ]
  },
  {
   "cell_type": "markdown",
   "id": "e854cc5c-002a-4cd4-acad-ebc415b1f6dd",
   "metadata": {},
   "source": [
    "Step 6. Calculate two columns for population density for both 2010 and 2020."
   ]
  },
  {
   "cell_type": "code",
   "execution_count": null,
   "id": "a928495a-67d5-4ceb-a3a1-d991d000c0cd",
   "metadata": {},
   "outputs": [],
   "source": [
    "# Step 6 Solution\n"
   ]
  },
  {
   "cell_type": "markdown",
   "id": "736a4304-c891-485e-a50f-c308ba2e9dc8",
   "metadata": {},
   "source": [
    "Step 7. Save the data frame to a CSV."
   ]
  },
  {
   "cell_type": "code",
   "execution_count": null,
   "id": "c81fbd94-9ca1-4d6b-b151-da007d36afd3",
   "metadata": {},
   "outputs": [],
   "source": [
    "# Step 7 Solution\n"
   ]
  },
  {
   "cell_type": "markdown",
   "id": "5f8d8091-7076-4745-889d-57daf804c870",
   "metadata": {},
   "source": [
    "Step 8. Swap the columns and indexes. Save to a CSV."
   ]
  },
  {
   "cell_type": "code",
   "execution_count": null,
   "id": "93e53fe2-6cc3-474e-8860-1511de8925c0",
   "metadata": {},
   "outputs": [],
   "source": [
    "# Step 8 Solution\n"
   ]
  }
 ],
 "metadata": {
  "kernelspec": {
   "display_name": "jupyter",
   "language": "python",
   "name": "jupyter"
  },
  "language_info": {
   "codemirror_mode": {
    "name": "ipython",
    "version": 3
   },
   "file_extension": ".py",
   "mimetype": "text/x-python",
   "name": "python",
   "nbconvert_exporter": "python",
   "pygments_lexer": "ipython3",
   "version": "3.10.6"
  }
 },
 "nbformat": 4,
 "nbformat_minor": 5
}
