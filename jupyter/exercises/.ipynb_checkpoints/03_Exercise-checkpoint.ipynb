{
 "cells": [
  {
   "cell_type": "markdown",
   "id": "208944c2-efa0-4d81-b92c-ea133e724eb4",
   "metadata": {},
   "source": [
    "# Exercise #3"
   ]
  },
  {
   "cell_type": "markdown",
   "id": "a175ba2f-7361-452e-88c7-911dac1a2519",
   "metadata": {},
   "source": [
    "Step 1. Use the Python Standard Library to read the currency data for 2019 from the \"eurofxref-hist.csv\". Create a new NumPy Array from the loaded currency data. The array should only contain the following columns: USD, CAD, JPY, and the RUB. Display the array."
   ]
  },
  {
   "cell_type": "code",
   "execution_count": 1,
   "id": "e47e02d4-c3a5-4cf1-bf0b-1b75b1469b72",
   "metadata": {},
   "outputs": [
    {
     "data": {
      "text/plain": [
       "array([[  1.1153,   1.4592, 122.23  ,  69.2013],\n",
       "       [  1.1097,   1.4579, 121.31  ,  68.9657],\n",
       "       [  1.1162,   1.469 , 122.31  ,  69.8758]])"
      ]
     },
     "execution_count": 1,
     "metadata": {},
     "output_type": "execute_result"
    }
   ],
   "source": [
    "# Step 1 Solution\n",
    "\n",
    "import csv\n",
    "import numpy as np\n",
    "\n",
    "data = []\n",
    "\n",
    "with open(\"data/eurofxref-hist.csv\") as csv_file:\n",
    "    \n",
    "    csv_reader = csv.DictReader(csv_file)\n",
    "    \n",
    "    for row in csv_reader:\n",
    "        data.append(row)\n",
    "\n",
    "rates = []\n",
    "\n",
    "for row in data:\n",
    "    \n",
    "    if row[\"Date\"].startswith('2019'):\n",
    "        rates.append([\n",
    "            float(row[\"USD\"]),\n",
    "            float(row[\"CAD\"]),\n",
    "            float(row[\"JPY\"]),\n",
    "            float(row[\"RUB\"]),\n",
    "        ])\n",
    "        \n",
    "rates = np.array(rates)\n",
    "\n",
    "rates.shape\n",
    "#rates.dtype\n",
    "\n",
    "rates[ [2,5,8] ]"
   ]
  },
  {
   "cell_type": "markdown",
   "id": "93d26cb9-b5fe-4551-ac23-36b8b80338fb",
   "metadata": {},
   "source": [
    "Step 2. Calculate the population min, max, range, mean, median, mode, standard deviation, and variance for each currency."
   ]
  },
  {
   "cell_type": "code",
   "execution_count": 2,
   "id": "de771389-4845-426e-b246-c4fff0826501",
   "metadata": {},
   "outputs": [
    {
     "name": "stdout",
     "output_type": "stream",
     "text": [
      "\n",
      "\n",
      "Population Stats for USD\n",
      "\n",
      "Max: 1.1535\n",
      "Min: 1.0889\n",
      "Range: 0.06459999999999999\n",
      "Mean: 1.1194745098039216\n",
      "Median: 1.1193\n",
      "Mode: 1.1075\n",
      "StdDev: 0.013633785070476334\n",
      "Variance: 0.00018588009534794336\n",
      "\n",
      "\n",
      "Population Stats for CAD\n",
      "\n",
      "Max: 1.5547\n",
      "Min: 1.4426\n",
      "Range: 0.11209999999999987\n",
      "Mean: 1.4854772549019608\n",
      "Median: 1.4874\n",
      "Mode: 1.4588\n",
      "StdDev: 0.022967216881632963\n",
      "Variance: 0.0005274930512879663\n",
      "\n",
      "\n",
      "Population Stats for JPY\n",
      "\n",
      "Max: 127.35\n",
      "Min: 116.05\n",
      "Range: 11.299999999999997\n",
      "Mean: 122.00576470588234\n",
      "Median: 121.9\n",
      "Mode: 124.45\n",
      "StdDev: 2.7151395630054567\n",
      "Variance: 7.3719828465974615\n",
      "\n",
      "\n",
      "Population Stats for RUB\n",
      "\n",
      "Max: 79.3589\n",
      "Min: 68.7932\n",
      "Range: 10.565700000000007\n",
      "Mean: 72.45533803921569\n",
      "Median: 72.21\n",
      "Mode: 70.5328\n",
      "StdDev: 1.890165255396967\n",
      "Variance: 3.572724692709882\n"
     ]
    }
   ],
   "source": [
    "# Step 2 Solution\n",
    "\n",
    "import statistics as stats2\n",
    "from scipy import stats\n",
    "\n",
    "currencies = [ \"USD\", \"CAD\", \"JPY\", \"RUB\" ]\n",
    "\n",
    "for index, currency in enumerate(currencies):\n",
    "    \n",
    "    print(\"\\n\\nPopulation Stats for \" + currency + \"\\n\")\n",
    "    \n",
    "    cur_rates = rates[:, index]\n",
    "    \n",
    "    max_rate = cur_rates.max()\n",
    "    min_rate = cur_rates.min()\n",
    "    \n",
    "    print(\"Max: \" + str(max_rate))\n",
    "    print(\"Min: \" + str(min_rate))\n",
    "    print(\"Range: \" + str(max_rate - min_rate))\n",
    "    print(\"Mean: \" + str(cur_rates.mean()))\n",
    "    print(\"Median: \" + str(np.median(cur_rates)))\n",
    "    print(\"Mode: \" + str(stats2.mode(cur_rates)))\n",
    "    print(\"StdDev: \" + str(stats2.pstdev(cur_rates)))\n",
    "    print(\"Variance: \" + str(stats2.pvariance(cur_rates)))     "
   ]
  },
  {
   "cell_type": "markdown",
   "id": "c20bafd7-3892-48d3-87f0-463c51f76d34",
   "metadata": {},
   "source": [
    "Step 3. Select a random sample size of 30 for each currency. Calculate the sample min, max, range, mean, median, mode, standard deviation, and variance."
   ]
  },
  {
   "cell_type": "code",
   "execution_count": 3,
   "id": "6c503de3-09d9-4425-8129-3fce7d630806",
   "metadata": {},
   "outputs": [
    {
     "name": "stdout",
     "output_type": "stream",
     "text": [
      "\n",
      "\n",
      "Sample Stats for USD\n",
      "\n",
      "Max: 1.1445\n",
      "Min: 1.0925\n",
      "Range: 0.052000000000000046\n",
      "Mean: 1.11611\n",
      "Median: 1.1125500000000001\n",
      "Mode: 1.1077\n",
      "StdDev: 0.013879961989414326\n",
      "Variance: 0.0001926533448275865\n",
      "\n",
      "\n",
      "Sample Stats for CAD\n",
      "\n",
      "Max: 1.5115\n",
      "Min: 1.4467\n",
      "Range: 0.06479999999999997\n",
      "Mean: 1.4813333333333332\n",
      "Median: 1.4764499999999998\n",
      "Mode: 1.5028\n",
      "StdDev: 0.02117499067024723\n",
      "Variance: 0.00044838022988505724\n",
      "\n",
      "\n",
      "Sample Stats for JPY\n",
      "\n",
      "Max: 126.66\n",
      "Min: 116.66\n",
      "Range: 10.0\n",
      "Mean: 121.87766666666667\n",
      "Median: 121.065\n",
      "Mode: 124.64\n",
      "StdDev: 2.9456451589250956\n",
      "Variance: 8.676825402298851\n",
      "\n",
      "\n",
      "Sample Stats for RUB\n",
      "\n",
      "Max: 75.1351\n",
      "Min: 69.8758\n",
      "Range: 5.259299999999996\n",
      "Mean: 72.1871633333333\n",
      "Median: 72.09505\n",
      "Mode: 71.9802\n",
      "StdDev: 1.5926176367493416\n",
      "Variance: 2.5364309368850577\n"
     ]
    }
   ],
   "source": [
    "# Step 3 Solution\n",
    "\n",
    "sample_rates_indexes = np.random.choice(np.arange(rates.shape[0]), size=30)\n",
    "sample_rates = rates[sample_rates_indexes] # rates[ [1,4,7,8] ]\n",
    "\n",
    "currencies = [ \"USD\", \"CAD\", \"JPY\", \"RUB\" ]\n",
    "\n",
    "for index, currency in enumerate(currencies):\n",
    "    \n",
    "    print(\"\\n\\nSample Stats for \" + currency + \"\\n\")\n",
    "    \n",
    "    cur_rates = sample_rates[:, index]\n",
    "    \n",
    "    max_rate = cur_rates.max()\n",
    "    min_rate = cur_rates.min()\n",
    "    \n",
    "    print(\"Max: \" + str(max_rate))\n",
    "    print(\"Min: \" + str(min_rate))\n",
    "    print(\"Range: \" + str(max_rate - min_rate))\n",
    "    print(\"Mean: \" + str(cur_rates.mean()))\n",
    "    print(\"Median: \" + str(np.median(cur_rates)))\n",
    "    print(\"Mode: \" + str(stats2.mode(cur_rates)))\n",
    "    print(\"StdDev: \" + str(stats2.stdev(cur_rates)))\n",
    "    print(\"Variance: \" + str(stats2.variance(cur_rates)))   "
   ]
  },
  {
   "cell_type": "markdown",
   "id": "75a6b12e-59a6-4995-abe2-02bd5719292f",
   "metadata": {},
   "source": [
    "Step 4. Generate a boxplot for the population of each currency. I recommend one boxplot for each currency."
   ]
  },
  {
   "cell_type": "code",
   "execution_count": 4,
   "id": "636b9df3-b72e-48ac-aaba-16afa5a632f2",
   "metadata": {},
   "outputs": [
    {
     "data": {
      "image/png": "[encoded data removed]",
      "text/plain": [
       "<Figure size 640x480 with 1 Axes>"
      ]
     },
     "metadata": {},
     "output_type": "display_data"
    },
    {
     "data": {
      "image/png": "[encoded data removed]",
      "text/plain": [
       "<Figure size 640x480 with 1 Axes>"
      ]
     },
     "metadata": {},
     "output_type": "display_data"
    },
    {
     "data": {
      "image/png": "[encoded data removed]",
      "text/plain": [
       "<Figure size 640x480 with 1 Axes>"
      ]
     },
     "metadata": {},
     "output_type": "display_data"
    },
    {
     "data": {
      "image/png": "[encoded data removed]",
      "text/plain": [
       "<Figure size 640x480 with 1 Axes>"
      ]
     },
     "metadata": {},
     "output_type": "display_data"
    }
   ],
   "source": [
    "# Step 4 Solution\n",
    "\n",
    "from matplotlib import pyplot as plt\n",
    "\n",
    "%matplotlib inline\n",
    "\n",
    "plt.title(\"USD Currency Rate Changes for 2019\")\n",
    "plt.xlabel(\"Currency\")\n",
    "plt.ylabel(\"Rates\")\n",
    "\n",
    "plt.boxplot(rates[:,:1], labels=currencies[:1])\n",
    "plt.show()\n",
    "\n",
    "plt.title(\"CAD Currency Rate Changes for 2019\")\n",
    "plt.xlabel(\"Currency\")\n",
    "plt.ylabel(\"Rates\")\n",
    "\n",
    "plt.boxplot(rates[:,1:2], labels=currencies[1:2])\n",
    "plt.show()\n",
    "\n",
    "plt.title(\"JPY Currency Rate Changes for 2019\")\n",
    "plt.xlabel(\"Currency\")\n",
    "plt.ylabel(\"Rates\")\n",
    "\n",
    "plt.boxplot(rates[:,2:3], labels=currencies[2:3])\n",
    "plt.show()\n",
    "\n",
    "plt.title(\"RUB Currency Rate Changes for 2019\")\n",
    "plt.xlabel(\"Currency\")\n",
    "plt.ylabel(\"Rates\")\n",
    "\n",
    "plt.boxplot(rates[:,3,np.newaxis], labels=currencies[3:4])\n",
    "plt.show()\n",
    "\n",
    "\n",
    "\n"
   ]
  },
  {
   "cell_type": "code",
   "execution_count": 5,
   "id": "25143460-bac2-4679-b2e3-cebe418248a0",
   "metadata": {},
   "outputs": [
    {
     "data": {
      "text/plain": [
       "True"
      ]
     },
     "execution_count": 5,
     "metadata": {},
     "output_type": "execute_result"
    }
   ],
   "source": [
    "#rates[:,:1]\n",
    "#rates[:,0:1]\n",
    "#rates[:,0,np.newaxis]\n",
    "rates[:,0,None]\n",
    "np.newaxis == None"
   ]
  },
  {
   "cell_type": "code",
   "execution_count": 6,
   "id": "6f31a016-f764-421b-81ff-3fe6842337da",
   "metadata": {},
   "outputs": [
    {
     "data": {
      "text/plain": [
       "['RUB']"
      ]
     },
     "execution_count": 6,
     "metadata": {},
     "output_type": "execute_result"
    }
   ],
   "source": [
    "[currencies[3]]\n",
    "#currencies[3:4]\n",
    "\n",
    "\n",
    "# currencies[3, np.newaxis]\n",
    "\n",
    "# print(type(rates))\n",
    "# print(type(currencies))"
   ]
  },
  {
   "cell_type": "code",
   "execution_count": 7,
   "id": "b85f9592-ebaa-4a78-854f-385096912a8f",
   "metadata": {},
   "outputs": [],
   "source": [
    "currencies = np.array(['USD','CAD','JPY','RUB'])"
   ]
  },
  {
   "cell_type": "code",
   "execution_count": 8,
   "id": "a016e99c-6a97-484f-893b-1262f099a7b1",
   "metadata": {},
   "outputs": [
    {
     "data": {
      "text/plain": [
       "array(['RUB'], dtype='<U3')"
      ]
     },
     "execution_count": 8,
     "metadata": {},
     "output_type": "execute_result"
    }
   ],
   "source": [
    "currencies[3:4]"
   ]
  },
  {
   "cell_type": "code",
   "execution_count": 9,
   "id": "477b7367-43d0-42ca-b276-0d67ca03ca8a",
   "metadata": {},
   "outputs": [],
   "source": [
    "rates = np.array([1.2, 3.4, 5.6, 7.8])"
   ]
  },
  {
   "cell_type": "code",
   "execution_count": 10,
   "id": "8f7655c2-df9d-4bd1-8a67-96cbb284fbc1",
   "metadata": {},
   "outputs": [
    {
     "data": {
      "text/plain": [
       "array([1.2, 3.4, 5.6, 7.8])"
      ]
     },
     "execution_count": 10,
     "metadata": {},
     "output_type": "execute_result"
    }
   ],
   "source": [
    "rates"
   ]
  },
  {
   "cell_type": "code",
   "execution_count": 11,
   "id": "b87ccbf3-66d0-4c16-afef-8428ed7ac6d4",
   "metadata": {},
   "outputs": [
    {
     "data": {
      "text/plain": [
       "array(['USD', 'CAD', 'JPY', 'RUB'], dtype='<U3')"
      ]
     },
     "execution_count": 11,
     "metadata": {},
     "output_type": "execute_result"
    }
   ],
   "source": [
    "currencies"
   ]
  },
  {
   "cell_type": "code",
   "execution_count": 12,
   "id": "c2031b05-49d3-49b4-a132-c1e2859871c7",
   "metadata": {},
   "outputs": [
    {
     "data": {
      "text/plain": [
       "array([['USD', 'CAD', 'JPY', 'RUB'],\n",
       "       ['1.2', '3.4', '5.6', '7.8']], dtype='<U32')"
      ]
     },
     "execution_count": 12,
     "metadata": {},
     "output_type": "execute_result"
    }
   ],
   "source": [
    "t = np.array([currencies, rates])\n",
    "\n",
    "t"
   ]
  },
  {
   "cell_type": "code",
   "execution_count": null,
   "id": "df8fec9f-ada7-4eac-9a5d-003fd37eec4d",
   "metadata": {},
   "outputs": [],
   "source": []
  }
 ],
 "metadata": {
  "kernelspec": {
   "display_name": "jupyter",
   "language": "python",
   "name": "jupyter"
  },
  "language_info": {
   "codemirror_mode": {
    "name": "ipython",
    "version": 3
   },
   "file_extension": ".py",
   "mimetype": "text/x-python",
   "name": "python",
   "nbconvert_exporter": "python",
   "pygments_lexer": "ipython3",
   "version": "3.10.6"
  }
 },
 "nbformat": 4,
 "nbformat_minor": 5
}
