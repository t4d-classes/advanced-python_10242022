{
 "cells": [
  {
   "cell_type": "markdown",
   "id": "9d21e1b8-aec4-411a-86dd-6c4cc418e3f0",
   "metadata": {},
   "source": [
    "# Exercise #5"
   ]
  },
  {
   "cell_type": "markdown",
   "id": "0d7e693d-26ea-4bec-803f-578666e72eb7",
   "metadata": {},
   "source": [
    "Step 1. Load the cities (not the swapped version) CSV file created in exercise 4. Use only the city for the index. You can modify the cities.csv file with Excel to only have the first 10 rows."
   ]
  },
  {
   "cell_type": "code",
   "execution_count": null,
   "id": "3c417e50-25ec-4c24-a11f-d182622e74ea",
   "metadata": {},
   "outputs": [],
   "source": [
    "# Step 1 Solution\n"
   ]
  },
  {
   "cell_type": "markdown",
   "id": "8a6eb04e-3572-4908-bafc-edb288ea3709",
   "metadata": {},
   "source": [
    "Step 2. Use head to display the first three rows."
   ]
  },
  {
   "cell_type": "code",
   "execution_count": null,
   "id": "a1006230-f0d8-4a63-8d7d-ef4b08550743",
   "metadata": {},
   "outputs": [],
   "source": [
    "# Step 2 Solution\n"
   ]
  },
  {
   "cell_type": "markdown",
   "id": "f41e7178-9d33-4a0d-89c6-3d400f03f1fe",
   "metadata": {},
   "source": [
    "Step 3. Use tail to display the last three rows."
   ]
  },
  {
   "cell_type": "code",
   "execution_count": null,
   "id": "52b1ff7b-5fd1-4ce3-a7df-cff329bce4b0",
   "metadata": {},
   "outputs": [],
   "source": [
    "# Step 3 Solution\n"
   ]
  },
  {
   "cell_type": "markdown",
   "id": "4631e28d-24e8-4e0b-a588-97b6a1f6846b",
   "metadata": {},
   "source": [
    "Step 4. Display the row for Phoenix using the label. Hint: take a look at \"loc\" attribute."
   ]
  },
  {
   "cell_type": "code",
   "execution_count": null,
   "id": "5ad37f05-6e7c-4926-8160-3b1276204c04",
   "metadata": {},
   "outputs": [],
   "source": [
    "# Step 4 Solution\n"
   ]
  },
  {
   "cell_type": "markdown",
   "id": "b92c9d44-b913-43ec-9598-47ccb8ed34c3",
   "metadata": {},
   "source": [
    "Step 5. Display the row for Phoenix using the row index. Hint: take a look at \"iloc\" attribute."
   ]
  },
  {
   "cell_type": "code",
   "execution_count": null,
   "id": "78ad0f6d-b7d6-4250-94b6-c30ad59488aa",
   "metadata": {},
   "outputs": [],
   "source": [
    "# Step 5 Solution\n"
   ]
  },
  {
   "cell_type": "markdown",
   "id": "714101e7-f851-41a8-89bb-1ea15804c96e",
   "metadata": {},
   "source": [
    "Step 6. How many cities experienced negative growth from 2010 to 2020?"
   ]
  },
  {
   "cell_type": "code",
   "execution_count": null,
   "id": "3748cbd6-2fe3-4e81-ac07-bdd7cd759e42",
   "metadata": {},
   "outputs": [],
   "source": [
    "# Step 6 Solution\n"
   ]
  },
  {
   "cell_type": "markdown",
   "id": "9ddfddcd-5764-4c00-bf05-37c2f1d1085e",
   "metadata": {},
   "source": [
    "Step 7. Display Chicago to Houston using a range of labels."
   ]
  },
  {
   "cell_type": "code",
   "execution_count": null,
   "id": "c04cb345-90ca-493f-a972-ea48e50aa9e1",
   "metadata": {},
   "outputs": [],
   "source": [
    "# Step 7 Solution\n"
   ]
  },
  {
   "cell_type": "markdown",
   "id": "337c4943-62bb-4e1f-85e3-af7c28d3fe87",
   "metadata": {},
   "source": [
    "Step 8. Display Chicago to Houston using a range of indexes. Hint: take a look at \"iloc\" attribute."
   ]
  },
  {
   "cell_type": "code",
   "execution_count": null,
   "id": "f86bb422-4ab5-4d25-8db9-5ee490508096",
   "metadata": {},
   "outputs": [],
   "source": [
    "# Step 8 Solution\n"
   ]
  },
  {
   "cell_type": "markdown",
   "id": "f4cd7e9c-fc76-4ade-b97c-7b1c40a5e105",
   "metadata": {},
   "source": [
    "Step 9. Display descriptive statistics for the data frame."
   ]
  },
  {
   "cell_type": "code",
   "execution_count": null,
   "id": "311ac01e-7db7-49df-bc1e-9f605e71f96f",
   "metadata": {},
   "outputs": [],
   "source": [
    "# Step 9 Solution\n"
   ]
  },
  {
   "cell_type": "markdown",
   "id": "175a8b19-60e0-4192-a39a-67829c4646b8",
   "metadata": {},
   "source": [
    "Step 10. Use a pie chart to show the 2020 estimated population of the first 10 cities relative to the other cities in the data frame."
   ]
  },
  {
   "cell_type": "code",
   "execution_count": null,
   "id": "0f260d81-8ca7-441e-b019-218b685ed453",
   "metadata": {},
   "outputs": [],
   "source": [
    "# Step 10 Solution\n"
   ]
  }
 ],
 "metadata": {
  "kernelspec": {
   "display_name": "jupyter",
   "language": "python",
   "name": "jupyter"
  },
  "language_info": {
   "codemirror_mode": {
    "name": "ipython",
    "version": 3
   },
   "file_extension": ".py",
   "mimetype": "text/x-python",
   "name": "python",
   "nbconvert_exporter": "python",
   "pygments_lexer": "ipython3",
   "version": "3.10.6"
  }
 },
 "nbformat": 4,
 "nbformat_minor": 5
}
