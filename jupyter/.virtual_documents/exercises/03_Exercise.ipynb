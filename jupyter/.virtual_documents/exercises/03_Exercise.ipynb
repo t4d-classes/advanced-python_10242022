# Step 1 Solution

import csv
import numpy as np

data = []

with open("data/eurofxref-hist.csv") as csv_file:
    
    csv_reader = csv.DictReader(csv_file)
    
    for row in csv_reader:
        data.append(row)

rates = []

for row in data:
    
    if row["Date"].startswith('2019'):
        rates.append([
            float(row["USD"]),
            float(row["CAD"]),
            float(row["JPY"]),
            float(row["RUB"]),
        ])
        
rates = np.array(rates)

rates.shape
#rates.dtype

rates[ [2,5,8] ]


# Step 2 Solution

import statistics as stats2
from scipy import stats

currencies = [ "USD", "CAD", "JPY", "RUB" ]

for index, currency in enumerate(currencies):
    
    print("\n\nPopulation Stats for " + currency + "\n")
    
    cur_rates = rates[:, index]
    
    max_rate = cur_rates.max()
    min_rate = cur_rates.min()
    
    print("Max: " + str(max_rate))
    print("Min: " + str(min_rate))
    print("Range: " + str(max_rate - min_rate))
    print("Mean: " + str(cur_rates.mean()))
    print("Median: " + str(np.median(cur_rates)))
    print("Mode: " + str(stats2.mode(cur_rates)))
    print("StdDev: " + str(stats2.pstdev(cur_rates)))
    print("Variance: " + str(stats2.pvariance(cur_rates)))     


# Step 3 Solution

sample_rates_indexes = np.random.choice(np.arange(rates.shape[0]), size=30)
sample_rates = rates[sample_rates_indexes] # rates[ [1,4,7,8] ]

currencies = [ "USD", "CAD", "JPY", "RUB" ]

for index, currency in enumerate(currencies):
    
    print("\n\nSample Stats for " + currency + "\n")
    
    cur_rates = sample_rates[:, index]
    
    max_rate = cur_rates.max()
    min_rate = cur_rates.min()
    
    print("Max: " + str(max_rate))
    print("Min: " + str(min_rate))
    print("Range: " + str(max_rate - min_rate))
    print("Mean: " + str(cur_rates.mean()))
    print("Median: " + str(np.median(cur_rates)))
    print("Mode: " + str(stats2.mode(cur_rates)))
    print("StdDev: " + str(stats2.stdev(cur_rates)))
    print("Variance: " + str(stats2.variance(cur_rates)))   


# Step 4 Solution

from matplotlib import pyplot as plt

get_ipython().run_line_magic("matplotlib", " inline")

plt.title("USD Currency Rate Changes for 2019")
plt.xlabel("Currency")
plt.ylabel("Rates")

plt.boxplot(rates[:,:1], labels=currencies[:1])
plt.show()

plt.title("CAD Currency Rate Changes for 2019")
plt.xlabel("Currency")
plt.ylabel("Rates")

plt.boxplot(rates[:,1:2], labels=currencies[1:2])
plt.show()

plt.title("JPY Currency Rate Changes for 2019")
plt.xlabel("Currency")
plt.ylabel("Rates")

plt.boxplot(rates[:,2:3], labels=currencies[2:3])
plt.show()

plt.title("RUB Currency Rate Changes for 2019")
plt.xlabel("Currency")
plt.ylabel("Rates")

plt.boxplot(rates[:,3,np.newaxis], labels=currencies[3:4])
plt.show()






#rates[:,:1]
#rates[:,0:1]
#rates[:,0,np.newaxis]
rates[:,0,None]
np.newaxis == None


[currencies[3]]
#currencies[3:4]


# currencies[3, np.newaxis]

# print(type(rates))
# print(type(currencies))


currencies = np.array(['USD','CAD','JPY','RUB'])


currencies[3:4]


rates = np.array([1.2, 3.4, 5.6, 7.8])


rates


currencies


t = np.array([currencies, rates])

t



