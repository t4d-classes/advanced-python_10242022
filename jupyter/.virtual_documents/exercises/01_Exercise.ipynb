# Step 1 Solution Here

import numpy as np

arr = np.arange(64, dtype=np.int8).reshape(4,16)

arr


# Step 2 Solution Here

display(arr.dtype)
display(arr.ndim)
display(arr.shape)
display(arr.size)
display(arr.itemsize)
display(arr.nbytes)


# Step 3 Solution Here

new_arr = arr - 10

display(arr)
display(new_arr)

arr -= 10

display(arr)


# Step 4 Solution Here

# even_mask = arr % 2 == 0

# arr[even_mask]

# arr[even_mask] = arr[even_mask] * -1

arr[arr % 2 == 0] *= -1

arr


# Step 5 Solution

new_arr = np.where(arr < 0, 1000, arr) # if I am changing the type, this is a little cleaner

# arr = arr.astype(np.float16)
arr[arr < 0] = 40 # if I am doing an inplace update with same type, this is better

# print(id(arr) == id(new_arr))

x = 0

new_arr[x,0] = 50

print(new_arr.dtype)
display(new_arr)
display(arr)


# Step 6 Solution

# arr[np.logical_not(np.isnan(arr))]



display(arr[~(np.isnan(arr))])

display(arr)



