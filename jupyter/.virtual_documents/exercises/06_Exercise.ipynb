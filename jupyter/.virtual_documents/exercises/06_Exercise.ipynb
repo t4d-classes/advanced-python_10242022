# Step 1 Solution

import pandas as pd

flights = pd.read_csv("data\\AirlineOnTime_May2020.csv")

flights.head()


# Step 2 Solution

flights.groupby(["ORIGIN"]).size().sort_values(ascending=False).head(10)


# Step 3 Solution

display(flights[flights["CANCELLED"] == 1]["ORIGIN"].value_counts().head(1))

display(flights[flights["CANCELLED"] == 1.0].groupby("ORIGIN").size().sort_values(ascending=False).head(1))



# Step 4 Solution

canceled_flights = pd.DataFrame({
    "Fulfilled": flights[flights["CANCELLED"] == 0.0].groupby("ORIGIN").size(),
    "Cancelled": flights[flights["CANCELLED"] == 1.0].groupby("ORIGIN").size(),
    "Total": flights.groupby("ORIGIN").size(),
}).sort_values(by=["Cancelled"], ascending=False)

canceled_flights["Percent Cancelled"] = 100 * (canceled_flights["Cancelled"] / canceled_flights["Total"])

canceled_flights.sort_values(by=["Percent Cancelled"], ascending=False).head(10)


# Step 5 Solution

import matplotlib.pyplot as plt
from matplotlib.ticker import MaxNLocator

get_ipython().run_line_magic("matplotlib", " inline")

airports = ["ATL", "LAS", "DFW", "ORD"]

for airport in airports:

    airport_daily_flights = flights[flights["ORIGIN"] == airport].groupby(by=["DAY_OF_MONTH"]).size()
    airport_daily_cancellations = flights[
        (flights["ORIGIN"] == airport) & (flights["CANCELLED"] == 1.0) ].groupby(by=["DAY_OF_MONTH"]).size()
    
    airport_daily_flights = airport_daily_flights.reindex(range(1,32), fill_value=0)
    airport_daily_cancellations = airport_daily_cancellations.reindex(range(1,32), fill_value=0)
    

    fig_1 = plt.figure(1, figsize=(15, 6))

    chart_1 = fig_1.add_subplot(121)
    chart_2 = fig_1.add_subplot(122)

    chart_1.plot(range(31), airport_daily_flights, label="Total Flights")
    chart_1.plot(range(31), airport_daily_cancellations, label="Cancelled Flights")

    chart_1.set_title(airport + " Flights Cancelled Per Day in May 2020")
    chart_1.xaxis.set_label("Day of the Month")
    chart_1.yaxis.set_label("Num of Flights")
    chart_1.legend(loc="center right")

    chart_2.pie([
        airport_daily_cancellations.sum(),
        airport_daily_flights.sum() - airport_daily_cancellations.sum()],
        labels=["Cancelled", "Not Cancelled"],
        explode = (0.4, 0))

    chart_2.set_title(airport + " Flights Cancelled in May 2020")


    plt.show()



