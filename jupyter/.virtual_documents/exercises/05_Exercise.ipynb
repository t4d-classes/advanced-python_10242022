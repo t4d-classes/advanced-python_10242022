# Step 1 Solution

import pandas as pd

def clean_up_city(x):
    return x.split("[")[0].strip()

cities = pd.read_csv("cities.csv")
cities = pd.DataFrame(cities[0:10])
cities["City"] = cities["City"].apply(clean_up_city)
cities.to_csv("cities_top10.csv", index=False)

cities = pd.read_csv("cities_top10.csv", index_col=0)
cities


# Step 2 Solution
cities.head(3)


# Step 3 Solution
cities.tail(3)


# Step 4 Solution

cities.loc[ ["Phoenix"] ]



# Step 5 Solution

cities.index.get_loc("Phoenix")

cities.iloc[cities.index.get_loc("Phoenix")]



# Step 6 Solution

cities[cities["Population Change"] < 0].count()


# Step 7 Solution

cities[ "Chicago":"Houston" ]


# Step 8 Solution
cities.iloc[2:4]


# Step 9 Solution
cities.describe()


# Step 10 Solution

from matplotlib import pyplot as plt
get_ipython().run_line_magic("matplotlib", " inline")

fig_1 = plt.figure(1, figsize=(10, 10), facecolor="white")

ax1 = fig_1.add_subplot(111)

ax1.pie(
  cities["2020 Estimate"].values,
  labels=cities.index.values,
  autopct='%1.1f%%',
)

ax1.axis('equal')


plt.show()



