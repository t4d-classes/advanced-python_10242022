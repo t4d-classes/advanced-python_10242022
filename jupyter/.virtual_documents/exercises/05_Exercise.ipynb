# Step 1 Solution



# Step 2 Solution



# Step 3 Solution



# Step 4 Solution



# Step 5 Solution



# Step 6 Solution



# Step 7 Solution



# Step 8 Solution



# Step 9 Solution



# Step 10 Solution

