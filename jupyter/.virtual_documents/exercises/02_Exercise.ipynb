# Step 1 Solution

import csv

data = []

with open("data/eurofxref-hist.csv") as csv_file:
    
    csv_reader = csv.DictReader(csv_file)
    
    for row in csv_reader:
        data.append(row)
        
# data[:10]


# Step 2 Solution

import numpy as np

rates = []

for row in data:
    
    if row["Date"].startswith('2020'):
        rates.append([
            float(row["USD"]),
            float(row["CAD"]),
            float(row["JPY"]),
            float(row["RUB"]),
        ])
        
rates = np.array(rates, dtype=np.int16)

print(rates.shape)
print(rates.size)
print(len(rates)) # number of rows


# Step 3 Solution

eur_rates = np.ones(rates.shape[0])

all_rates = np.column_stack([ eur_rates, rates])

print(all_rates.shape)
all_rates[0]


# Step 4 Solution

# for row_index in range(all_rates.shape[0]):
#     all_rates[row_index] = all_rates[row_index] / all_rates[row_index,1]

# display(all_rates[:, 1, np.newaxis])


# display(all_rates.shape)
# display(all_rates[:, 1, np.newaxis].shape)

# all_rates /= all_rates[:, 1, np.newaxis] # USD
all_rates /= all_rates[:, 2, np.newaxis] # CAD
    
    
all_rates[0]



# Step 5 Solution

print(all_rates[:,0].min())
print(all_rates[:,0].max())

print(all_rates[:,3].min())
print(all_rates[:,3].max())


# Step 6 Solution

from matplotlib import pyplot as plt

get_ipython().run_line_magic("matplotlib", " inline")

plt.plot(all_rates[:,0], label="EUR", color="blue")
plt.plot(all_rates[:,1], label="USD", color="green")
plt.plot(all_rates[:,2], label="CAD", color="orange")

plt.title('Currency Rates by Day in 2020')
plt.xlabel('Day of the Year')
plt.ylabel('Rate')
plt.legend(loc='center right')
           
plt.show()



