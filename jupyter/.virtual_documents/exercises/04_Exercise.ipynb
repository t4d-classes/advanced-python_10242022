# Step 1 Solution

import pandas as pd
import numpy as np

def to_float_or_nan(x):
    try:
        return float(x.replace(",", "").strip())
    except:
        return np.nan

cities_2010_file_name = "data\\us_cities_by_population_2010.csv"
cities_2010 = pd.read_csv(cities_2010_file_name, index_col=[1,2])

# interesting, good to know, but inefficient
# actual_2010_series = cities_2010["2010 Actual"]

# actual_2010_floats = []

# for actual_2010 in actual_2010_series:
#     actual_2010_floats.append(to_float_or_nan(actual_2010))
    
# cities_2010["2010 Actual"] = actual_2010_floats

cities_2010["2010 Actual"] = cities_2010["2010 Actual"].apply(to_float_or_nan)

# print(cities_2010.index)
print(cities_2010.dtypes)

cities_2010.head()



# Step 2 Solution

cities_2020_file_name = "data\\us_cities_by_population_2020.csv"
cities_2020 = pd.read_csv(cities_2020_file_name, index_col=[1,2])
cities_2020["2020 Estimate"] = cities_2020["2020 Estimate"].apply(to_float_or_nan)

print(cities_2020.index)
print(cities_2020.dtypes)
cities_2020



# Step 3 Solution

# cities_data = pd.DataFrame({
#     "Rank 1": cities_2010["Rank"],
#     "2010 Actual": cities_2010["2010 Actual"],
#     "Rank 2": cities_2020["Rank"],
#     "2020 Estimate": cities_2020["2020 Estimate"],
# })

# cities_2010.columns = ["Rank 1", "2010 Actual"]
# cities_2020.columns = ["Rank 2", "2020 Estimate"]

del cities_2010["Rank"]
del cities_2020["Rank"]

# Or drop the column
# cities_2010.drop("Rank", axis=1, inplace=True)
# cities_2020.drop(columns=["Rank"], inplace=True)

cities_data = cities_2010.join(cities_2020)

# cities_data = cities_2010.join(cities_2020, rsuffix=" 2")

cities_data



# Step 4 Solution

def land_area_to_float_or_nan(x):
    try:
        return float(x.replace("sq mi", "").strip())
    except:
        return np.nan

# cities_2016_land_area_file_name = "data\\us_cities_by_land_area_2016.csv"
# cities_2016_land_area_data = pd.read_csv(
#     cities_2016_land_area_file_name,
#     index_col=[0,1])

# cities_2016_land_area_data["2016 Land Area (sq mi)"] = cities_2016_land_area_data["2016 Land Area (sq mi)"].apply(land_area_to_float_or_nan)

# cities_data = cities_data.join(cities_2016_land_area_data)

print(cities_data.dtypes)

cities_data.head()


# Step 5 Solution

cities_data["Population Change"] = (cities_data["2020 Estimate"] - cities_data["2010 Actual"]) / cities_data["2010 Actual"] * 100

cities_data.head()


# Step 6 Solution
cities_data["Population Density 2010"] = cities_data["2010 Actual"] / cities_data["2016 Land Area (sq mi)"]
cities_data["Population Density 2020"] = cities_data["2020 Estimate"] / cities_data["2016 Land Area (sq mi)"]

cities_data


# Step 7 Solution
cities_data.to_csv("cities.csv")


# Step 8 Solution

cities_data2 =  cities_data.stack().unstack(1).unstack(0)

cities_data3 = cities_data.T

display(cities_data2.head(2))
display(cities_data3.head(2))



