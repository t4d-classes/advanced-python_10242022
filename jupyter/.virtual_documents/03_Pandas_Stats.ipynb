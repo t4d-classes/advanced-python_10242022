from matplotlib import pyplot as plt
import pandas as pd

get_ipython().run_line_magic("matplotlib", " inline")


median_income_dict = {
    "Alexandria": 80847,
    "Amherst": 44757,
    "Arlington": 94880,
    "Augusta": 50612,
    "Bedford": 54110,
    "Botetourt": 64724,
    "Fairfax": 105416,
    "Falls Church": 114409,
    "Prince William": 91098,
}

median_income_series = pd.Series(median_income_dict)

households_dict = {
    "Alexandria": 68082,
    "Amherst": 12560,
    "Arlington": 98050,
    "Augusta": 28516,
    "Bedford": 27465,
    "Botetourt": 13126,
    "Fairfax": 391627,
    "Falls Church":	5101,
    "Prince William": 130785,
}

households_series = pd.Series(households_dict)

counties = pd.DataFrame({
    "median_income": median_income_series,
    "households": households_series,
})

counties["Region"] = [
    "Northern",
    "Central",
    "Northern",
    "Central",
    "Central",
    "Southwestern",
    "Northern",
    "Northern",
    "Northern",
]

counties


counties["Region"].unique()


counties["Region"].value_counts()


median_income_series[median_income_series > 75000]


counties[counties["median_income"] > 75000]


counties["median_income"] > 75000


counties[ [True, True, True, False, False, False, False, False, False ] ] 


median_income_series.min()


median_income_series.max()


counties.max()


counties.min()


median_income_series.mean()


median_income_series.mode()


median_income_series.median()


counties.mean(numeric_only=True)


counties.mode(numeric_only=True)


counties.median(numeric_only=True)


median_income_series.std()


median_income_series.var()


median_income_series.size


median_income_series.describe()


counties.describe()


rates = pd.read_csv("eurofxref-hist.csv", index_col=0)

rates.head()


rates.describe()


rates.drop(columns=["CYP","BGN"], inplace=True)

rates


rates[ ["USD", "JPY", "CAD" ] ]


flights = pd.read_csv("AirlineOnTime_May2020.csv")

flights.head()


flights["DEP_TIME"].min()


flights["DEP_TIME"].max()


flights.columns


flights["DEP_DELAY"].min()


flights["DEP_DELAY"].max() / 60


flights[ ["DEP_DELAY", "ARR_DELAY"] ].describe()


counties = pd.read_csv("counties.csv", index_col=0)

display(counties["Households"].values)


display(counties.index.values)


fig_1 = plt.figure(1, figsize=(10,10), facecolor="white")

chart_1 = fig_1.add_subplot(111)
chart_1.pie(
    counties["Households"].values,
    labels=counties.index.values,
    autopct="%1.1f%%"
)

chart_1.axis('equal')

plt.show()



