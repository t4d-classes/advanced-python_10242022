import sys
import numpy as np

item_count = 50000000


get_ipython().run_cell_magic("time", "", """
nums_list = [ 1 for _ in range(item_count) ]

double_nums_list = [ x * 2 for x in nums_list ]

double_nums_list_sum = sum(double_nums_list)

print(double_nums_list_sum)
print(sys.getsizeof(double_nums_list) / 1000000)""")


get_ipython().run_cell_magic("time", "", """
nums_arr = np.ones(item_count, dtype="int8")

double_nums_arr = nums_arr * 2

double_nums_arr_sum = np.sum(double_nums_arr)

print(double_nums_arr_sum)
print(double_nums_arr.nbytes / 1000000)""")


get_ipython().run_cell_magic("time", "", """
nums_arr = np.ones(item_count)

double_nums_arr = nums_arr * 2

double_nums_arr_sum = np.sum(double_nums_arr)

print(double_nums_arr_sum)
print(double_nums_arr.nbytes / 1000000)""")



