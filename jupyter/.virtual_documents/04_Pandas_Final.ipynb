import math
import statistics as stats2

from matplotlib import pyplot as plt
from matplotlib.ticker import MaxNLocator
from scipy import stats
import numpy as np
import pandas as pd


get_ipython().run_line_magic("matplotlib", " inline")


people = pd.DataFrame({
    "name": [ "Bob", "Sally", "Timmy", "Bridget", "Susan", "Steve" ],
    "city": [ "San Jose", "San Diego", "New York", "San Jose", "Austin", "New York" ],
    "state": [ "CA", "CA", "NY", "CA", "TX", "NY" ]
})

people


people.value_counts()


people["city"].value_counts()


people[["city", "state"]].value_counts()


people.groupby([ "city", "state" ]).size()


people_grouped = people.groupby([ "city", "state" ]).size().sort_values(ascending=False)

people_grouped


type(people_grouped)


people_grouped.unstack()


state_by_city = people_grouped.unstack(0)
state_by_city


state_by_city.fillna(0, inplace=True)
state_by_city


state_by_city.sort_values(by=["New York"], ascending=False)


import random

days = pd.Series({
    "1": random.random(),
    "2": random.random(),
    "5": random.random(),
    "7": random.random(),
    "8": random.random(),
    "9": random.random(),
})

display(days)


days.index


reindexed_days = days.reindex([ str(v) for v in range(1,11) ])

reindexed_days


reindexed_days.fillna(0, inplace=True)

reindexed_days



df= pd.DataFrame({'number': np.random.randint(1, 100, 100)})

df


df['bins'] = pd.cut(x=df['number'], bins=[1, 20, 40, 60, 80, 100])

print(df)
print(df['bins'].unique())
print(df['bins'].value_counts())


df = pd.DataFrame({'team': ['A', 'A', 'A', 'A', 'B', 'B', 'B', 'B'],
                   'points': [10, 10, 12, 12, 15, 17, 20, 20],
                   'assists': [5, 5, 7, 9, 12, 9, 6, 6]})

df


df[df.duplicated]


df[df.duplicated(keep='last')]


df.drop_duplicates()


df.drop_duplicates(keep='last')


df.drop_duplicates(subset=['team'])



