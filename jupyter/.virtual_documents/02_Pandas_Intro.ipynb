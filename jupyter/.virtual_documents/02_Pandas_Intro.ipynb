import pandas as pd
import numpy as np


median_income_dict = {
    "Alexandria": 80847,
    "Amherst": 44757,
    "Arlington": 94880,
    "Augusta": 50612,
    "Bedford": 54110,
    "Botetourt": 64724,
    "Fairfax": 105416,
    "Falls Church": 114409,
    "Prince William": 91098,
}

median_income_dict


median_income_dict['Amherst']


median_income_series = pd.Series(median_income_dict, dtype=np.int32)

median_income_series


median_income_series.head()


median_income_series.head(3)


median_income_series.tail()


median_income_series.tail(3)


median_income_series.index


median_income_series.values


income_values = median_income_series.values
income_values.dtype


type(median_income_series["Amherst"])


type(median_income_series[ ["Amherst"] ])


median_income_series["Amherst"] # return back a single value from the series


median_income_series[ ["Amherst", "Botetourt" ] ] # return back a series with the specified indexes


median_income_series["Amherst":"Bedford"] # return back a series with the specified range of indexes


median_income_series


median_income_series[1]


median_income_series[1:3]


median_income_series[ [1, 4]]


median_income_series.iloc[1]


median_income_series.loc['Amherst']


median_income_series.shape


households_dict = {
    "Alexandria": 68082,
    "Amherst": 12560,
    "Arlington": 98050,
    "Augusta": 28516,
    "Bedford": 27465,
    "Botetourt": 13126,
    "Fairfax": 391627,
    "Falls Church":	5101,
    "Prince William": 130785,
}

households_series = pd.Series(households_dict)

households_series


counties = pd.DataFrame({
    "median_income": median_income_series,
    "households": households_series
})

counties


counties.columns


counties.index


counties.values


counties.values.shape


a = counties.values
b = counties.values

print(id(a) == id(b))
print(a.shape)
print(b.shape)


a[0,0] = 999
a[0,0]


b[0,0]


counties.columns = ["Median Income", "Households"]

counties


counties2 = counties.stack()

counties2


print(type(counties2))
counties2.index


counties2 = counties2.unstack()

counties2


counties2 = counties2.unstack(0)

counties2


counties2["Median Income"]["Amherst"]


counties2 = counties2.unstack(0)

counties2


counties2 = counties2.unstack()

counties2


counties["Region"] = [
    "Northern",
    "Central",
    "Northern",
    "Central",
    "Central",
    "Southwestern",
    "Northern",
    "Northern",
    "Northern",
]

counties.dtypes


counties


counties["Total Household Income"] = counties["Median Income"] * counties["Households"]

counties


counties.index.name = "County"


counties


counties.to_csv("counties.csv")


counties3 = pd.read_csv("counties.csv", index_col=0)

counties3


table = counties3.pivot_table(values=['Total Household Income'], index=['Region'],
                              aggfunc=np.sum)

table


table = counties3.pivot_table(values=['Total Household Income'], index=['Region'],
                              aggfunc={'Total Household Income': [min, max, np.mean]})

table


wine_data = pd.read_csv("Portuguese_VinhoVerde_RedWine_Quality.csv")

wine_data.head()


wine_data.dtypes


wine_dtypes = {
    "fixed acidity": np.float32,
    "volatile acidity": np.float32,
    "citric acid": np.float32,
    "residual sugar": np.float32,
    "chlorides": np.float32,
    "free sulfur dioxide": np.float32,
    "total sulfur dioxide": np.float32,
    "density": np.float32,
    "pH": np.float32,
    "sulphates": np.float32,
    "alcohol": np.float32,
    "quality": np.int8,
}


wine_data = pd.read_csv("Portuguese_VinhoVerde_RedWine_Quality.csv", dtype=wine_dtypes)

wine_data


wine_data.dtypes


wine_data.index


wine_data.columns


df1 = pd.DataFrame({'A': [0, 0], 'B': [4, 4]})

df2 = pd.DataFrame({'C': [1, 2, 4], 'D': [3, 3, 8]})

display(df1)
display(df2)


# df3 = df1.join(df2, how="right") # select the index of the second data frame
# df3 = df1.join(df2, how="left") # select the index of the first data frame
# df3 = df1.join(df2, how="inner") # select the indexes the data frames share
df3 = df1.join(df2, how="outer") # select all of the indexes for both data frames

df3


df1 = pd.DataFrame({'A': ['A0', 'A0'], 'B': ['B4', 'B4']})

df2 = pd.DataFrame({'C': ['C1', 'C2', 'C4'], 'D': ['D3', 'D3', 'D8']})

display(df1)
display(df2)


df3 = df1.join(df2, how="right")

display(df3)


df3.dtypes


df1 = pd.DataFrame({'A': [0, 0], 'B': [4, 4]})
df2 = pd.DataFrame({'A': [1, 1], 'B': [3, 3]})

display(df1)
display(df2)


df3 = pd.concat([ df1, df2 ])
df3.reset_index(drop=True, inplace=True)

df3


pd.DataFrame([ [1, 2], [4, 5] ], columns=["A", "B"])



