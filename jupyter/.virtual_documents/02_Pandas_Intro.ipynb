import pandas as pd
import numpy as np


median_income_dict = {
    "Alexandria": 80847,
    "Amherst": 44757,
    "Arlington": 94880,
    "Augusta": 50612,
    "Bedford": 54110,
    "Botetourt": 64724,
    "Fairfax": 105416,
    "Falls Church": 114409,
    "Prince William": 91098,
}

median_income_dict


median_income_dict['Amherst']


median_income_series = pd.Series(median_income_dict, dtype=np.int32)

median_income_series


median_income_series.head()


median_income_series.head(3)


median_income_series.tail()


median_income_series.tail(3)


median_income_series.index


median_income_series.values


income_values = median_income_series.values
income_values.dtype


type(median_income_series["Amherst"])


type(median_income_series[ ["Amherst"] ])


median_income_series["Amherst"] # return back a single value from the series


median_income_series[ ["Amherst", "Botetourt" ] ] # return back a series with the specified indexes


median_income_series["Amherst":"Bedford"] # return back a series with the specified range of indexes


median_income_series


median_income_series[1]


median_income_series[1:3]


median_income_series[ [1, 4]]


median_income_series.iloc[1]


median_income_series.loc['Amherst']


median_income_series.shape


households_dict = {
    "Alexandria": 68082,
    "Amherst": 12560,
    "Arlington": 98050,
    "Augusta": 28516,
    "Bedford": 27465,
    "Botetourt": 13126,
    "Fairfax": 391627,
    "Falls Church":	5101,
    "Prince William": 130785,
}

households_series = pd.Series(households_dict)

households_series



