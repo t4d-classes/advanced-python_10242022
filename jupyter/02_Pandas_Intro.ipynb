{
 "cells": [
  {
   "cell_type": "code",
   "execution_count": 1,
   "id": "84e9dd4f-3785-44a7-b82a-0f9048cb065a",
   "metadata": {},
   "outputs": [],
   "source": [
    "import pandas as pd\n",
    "import numpy as np"
   ]
  },
  {
   "cell_type": "code",
   "execution_count": 2,
   "id": "9419bbf6-92e6-4bd8-80d5-829e538e4558",
   "metadata": {},
   "outputs": [
    {
     "data": {
      "text/plain": [
       "{'Alexandria': 80847,\n",
       " 'Amherst': 44757,\n",
       " 'Arlington': 94880,\n",
       " 'Augusta': 50612,\n",
       " 'Bedford': 54110,\n",
       " 'Botetourt': 64724,\n",
       " 'Fairfax': 105416,\n",
       " 'Falls Church': 114409,\n",
       " 'Prince William': 91098}"
      ]
     },
     "execution_count": 2,
     "metadata": {},
     "output_type": "execute_result"
    }
   ],
   "source": [
    "median_income_dict = {\n",
    "    \"Alexandria\": 80847,\n",
    "    \"Amherst\": 44757,\n",
    "    \"Arlington\": 94880,\n",
    "    \"Augusta\": 50612,\n",
    "    \"Bedford\": 54110,\n",
    "    \"Botetourt\": 64724,\n",
    "    \"Fairfax\": 105416,\n",
    "    \"Falls Church\": 114409,\n",
    "    \"Prince William\": 91098,\n",
    "}\n",
    "\n",
    "median_income_dict"
   ]
  },
  {
   "cell_type": "code",
   "execution_count": 3,
   "id": "a4c124ca-9b7f-46a3-b6c2-d6a8112d2694",
   "metadata": {},
   "outputs": [
    {
     "data": {
      "text/plain": [
       "44757"
      ]
     },
     "execution_count": 3,
     "metadata": {},
     "output_type": "execute_result"
    }
   ],
   "source": [
    "median_income_dict['Amherst']"
   ]
  },
  {
   "cell_type": "code",
   "execution_count": 4,
   "id": "7717c200-4de7-4bad-8d2f-c1a6b0ffaaad",
   "metadata": {},
   "outputs": [
    {
     "data": {
      "text/plain": [
       "Alexandria         80847\n",
       "Amherst            44757\n",
       "Arlington          94880\n",
       "Augusta            50612\n",
       "Bedford            54110\n",
       "Botetourt          64724\n",
       "Fairfax           105416\n",
       "Falls Church      114409\n",
       "Prince William     91098\n",
       "dtype: int32"
      ]
     },
     "execution_count": 4,
     "metadata": {},
     "output_type": "execute_result"
    }
   ],
   "source": [
    "median_income_series = pd.Series(median_income_dict, dtype=np.int32)\n",
    "\n",
    "median_income_series"
   ]
  },
  {
   "cell_type": "code",
   "execution_count": 5,
   "id": "c6c4730a-4b5d-4e73-ab87-811ac237760b",
   "metadata": {},
   "outputs": [
    {
     "data": {
      "text/plain": [
       "Alexandria    80847\n",
       "Amherst       44757\n",
       "Arlington     94880\n",
       "Augusta       50612\n",
       "Bedford       54110\n",
       "dtype: int32"
      ]
     },
     "execution_count": 5,
     "metadata": {},
     "output_type": "execute_result"
    }
   ],
   "source": [
    "median_income_series.head()"
   ]
  },
  {
   "cell_type": "code",
   "execution_count": 6,
   "id": "e32d1244-9495-4bc4-9bf9-5ebe5a64ade5",
   "metadata": {},
   "outputs": [
    {
     "data": {
      "text/plain": [
       "Alexandria    80847\n",
       "Amherst       44757\n",
       "Arlington     94880\n",
       "dtype: int32"
      ]
     },
     "execution_count": 6,
     "metadata": {},
     "output_type": "execute_result"
    }
   ],
   "source": [
    "median_income_series.head(3)"
   ]
  },
  {
   "cell_type": "code",
   "execution_count": 7,
   "id": "6a5da05a-bd69-4f5f-bbfb-171930050884",
   "metadata": {},
   "outputs": [
    {
     "data": {
      "text/plain": [
       "Bedford            54110\n",
       "Botetourt          64724\n",
       "Fairfax           105416\n",
       "Falls Church      114409\n",
       "Prince William     91098\n",
       "dtype: int32"
      ]
     },
     "execution_count": 7,
     "metadata": {},
     "output_type": "execute_result"
    }
   ],
   "source": [
    "median_income_series.tail()"
   ]
  },
  {
   "cell_type": "code",
   "execution_count": 8,
   "id": "392235f1-5928-4f1f-ab1c-3baf74b80881",
   "metadata": {},
   "outputs": [
    {
     "data": {
      "text/plain": [
       "Fairfax           105416\n",
       "Falls Church      114409\n",
       "Prince William     91098\n",
       "dtype: int32"
      ]
     },
     "execution_count": 8,
     "metadata": {},
     "output_type": "execute_result"
    }
   ],
   "source": [
    "median_income_series.tail(3)"
   ]
  },
  {
   "cell_type": "code",
   "execution_count": 9,
   "id": "fe4e6918-e70c-4c5b-bba4-500b6a05497a",
   "metadata": {},
   "outputs": [
    {
     "data": {
      "text/plain": [
       "Index(['Alexandria', 'Amherst', 'Arlington', 'Augusta', 'Bedford', 'Botetourt',\n",
       "       'Fairfax', 'Falls Church', 'Prince William'],\n",
       "      dtype='object')"
      ]
     },
     "execution_count": 9,
     "metadata": {},
     "output_type": "execute_result"
    }
   ],
   "source": [
    "median_income_series.index"
   ]
  },
  {
   "cell_type": "code",
   "execution_count": 10,
   "id": "a848d7a1-d25a-4217-a285-5456a0d4bae5",
   "metadata": {},
   "outputs": [
    {
     "data": {
      "text/plain": [
       "array([ 80847,  44757,  94880,  50612,  54110,  64724, 105416, 114409,\n",
       "        91098])"
      ]
     },
     "execution_count": 10,
     "metadata": {},
     "output_type": "execute_result"
    }
   ],
   "source": [
    "median_income_series.values"
   ]
  },
  {
   "cell_type": "code",
   "execution_count": 11,
   "id": "560b6bfa-a6e3-4713-9969-5899e4092965",
   "metadata": {},
   "outputs": [
    {
     "data": {
      "text/plain": [
       "dtype('int32')"
      ]
     },
     "execution_count": 11,
     "metadata": {},
     "output_type": "execute_result"
    }
   ],
   "source": [
    "income_values = median_income_series.values\n",
    "income_values.dtype"
   ]
  },
  {
   "cell_type": "code",
   "execution_count": 15,
   "id": "d5caebcf-bfa1-48f0-9235-e78b3c134a94",
   "metadata": {},
   "outputs": [
    {
     "data": {
      "text/plain": [
       "numpy.int32"
      ]
     },
     "execution_count": 15,
     "metadata": {},
     "output_type": "execute_result"
    }
   ],
   "source": [
    "type(median_income_series[\"Amherst\"])"
   ]
  },
  {
   "cell_type": "code",
   "execution_count": 14,
   "id": "a3744104-864c-4f6f-82b7-52e644aa1365",
   "metadata": {},
   "outputs": [
    {
     "data": {
      "text/plain": [
       "pandas.core.series.Series"
      ]
     },
     "execution_count": 14,
     "metadata": {},
     "output_type": "execute_result"
    }
   ],
   "source": [
    "type(median_income_series[ [\"Amherst\"] ])"
   ]
  },
  {
   "cell_type": "code",
   "execution_count": 16,
   "id": "208820a0-f00b-4b50-9fed-9122b7e74b7d",
   "metadata": {},
   "outputs": [
    {
     "data": {
      "text/plain": [
       "44757"
      ]
     },
     "execution_count": 16,
     "metadata": {},
     "output_type": "execute_result"
    }
   ],
   "source": [
    "median_income_series[\"Amherst\"] # return back a single value from the series"
   ]
  },
  {
   "cell_type": "code",
   "execution_count": 17,
   "id": "0a6cb0c3-b96b-487e-be34-9fb0db581501",
   "metadata": {},
   "outputs": [
    {
     "data": {
      "text/plain": [
       "Amherst      44757\n",
       "Botetourt    64724\n",
       "dtype: int32"
      ]
     },
     "execution_count": 17,
     "metadata": {},
     "output_type": "execute_result"
    }
   ],
   "source": [
    "median_income_series[ [\"Amherst\", \"Botetourt\" ] ] # return back a series with the specified indexes"
   ]
  },
  {
   "cell_type": "code",
   "execution_count": 18,
   "id": "023d3ec2-f1a8-4a70-8f1e-6f09df126b35",
   "metadata": {},
   "outputs": [
    {
     "data": {
      "text/plain": [
       "Amherst      44757\n",
       "Arlington    94880\n",
       "Augusta      50612\n",
       "Bedford      54110\n",
       "dtype: int32"
      ]
     },
     "execution_count": 18,
     "metadata": {},
     "output_type": "execute_result"
    }
   ],
   "source": [
    "median_income_series[\"Amherst\":\"Bedford\"] # return back a series with the specified range of indexes"
   ]
  },
  {
   "cell_type": "code",
   "execution_count": 19,
   "id": "1b71319f-7949-46f5-87cb-b08ac0085f4a",
   "metadata": {},
   "outputs": [
    {
     "data": {
      "text/plain": [
       "Alexandria         80847\n",
       "Amherst            44757\n",
       "Arlington          94880\n",
       "Augusta            50612\n",
       "Bedford            54110\n",
       "Botetourt          64724\n",
       "Fairfax           105416\n",
       "Falls Church      114409\n",
       "Prince William     91098\n",
       "dtype: int32"
      ]
     },
     "execution_count": 19,
     "metadata": {},
     "output_type": "execute_result"
    }
   ],
   "source": [
    "median_income_series"
   ]
  },
  {
   "cell_type": "code",
   "execution_count": 20,
   "id": "a757fc48-6308-4c2d-bdc8-bdea515e6fe4",
   "metadata": {},
   "outputs": [
    {
     "data": {
      "text/plain": [
       "44757"
      ]
     },
     "execution_count": 20,
     "metadata": {},
     "output_type": "execute_result"
    }
   ],
   "source": [
    "median_income_series[1]"
   ]
  },
  {
   "cell_type": "code",
   "execution_count": 21,
   "id": "112535b7-73ca-4039-9e05-131f9109ed00",
   "metadata": {},
   "outputs": [
    {
     "data": {
      "text/plain": [
       "Amherst      44757\n",
       "Arlington    94880\n",
       "dtype: int32"
      ]
     },
     "execution_count": 21,
     "metadata": {},
     "output_type": "execute_result"
    }
   ],
   "source": [
    "median_income_series[1:3]"
   ]
  },
  {
   "cell_type": "code",
   "execution_count": 22,
   "id": "45d48807-c3b7-4b6f-ac77-92ce091d6757",
   "metadata": {},
   "outputs": [
    {
     "data": {
      "text/plain": [
       "Amherst    44757\n",
       "Bedford    54110\n",
       "dtype: int32"
      ]
     },
     "execution_count": 22,
     "metadata": {},
     "output_type": "execute_result"
    }
   ],
   "source": [
    "median_income_series[ [1, 4]]"
   ]
  },
  {
   "cell_type": "code",
   "execution_count": 23,
   "id": "e901535e-6275-48d8-a73e-9d70b8835572",
   "metadata": {},
   "outputs": [
    {
     "data": {
      "text/plain": [
       "44757"
      ]
     },
     "execution_count": 23,
     "metadata": {},
     "output_type": "execute_result"
    }
   ],
   "source": [
    "median_income_series.iloc[1]"
   ]
  },
  {
   "cell_type": "code",
   "execution_count": 24,
   "id": "6c649ec1-50fa-4c24-b1b1-b1d615bfe669",
   "metadata": {},
   "outputs": [
    {
     "data": {
      "text/plain": [
       "44757"
      ]
     },
     "execution_count": 24,
     "metadata": {},
     "output_type": "execute_result"
    }
   ],
   "source": [
    "median_income_series.loc['Amherst']"
   ]
  },
  {
   "cell_type": "code",
   "execution_count": 25,
   "id": "26578cdd-1b09-4cb0-91d3-aaa96f01cc4d",
   "metadata": {},
   "outputs": [
    {
     "data": {
      "text/plain": [
       "(9,)"
      ]
     },
     "execution_count": 25,
     "metadata": {},
     "output_type": "execute_result"
    }
   ],
   "source": [
    "median_income_series.shape"
   ]
  },
  {
   "cell_type": "code",
   "execution_count": 26,
   "id": "58e80ae7-767e-418f-bcad-21237757409a",
   "metadata": {},
   "outputs": [
    {
     "data": {
      "text/plain": [
       "Alexandria         68082\n",
       "Amherst            12560\n",
       "Arlington          98050\n",
       "Augusta            28516\n",
       "Bedford            27465\n",
       "Botetourt          13126\n",
       "Fairfax           391627\n",
       "Falls Church        5101\n",
       "Prince William    130785\n",
       "dtype: int64"
      ]
     },
     "execution_count": 26,
     "metadata": {},
     "output_type": "execute_result"
    }
   ],
   "source": [
    "households_dict = {\n",
    "    \"Alexandria\": 68082,\n",
    "    \"Amherst\": 12560,\n",
    "    \"Arlington\": 98050,\n",
    "    \"Augusta\": 28516,\n",
    "    \"Bedford\": 27465,\n",
    "    \"Botetourt\": 13126,\n",
    "    \"Fairfax\": 391627,\n",
    "    \"Falls Church\":\t5101,\n",
    "    \"Prince William\": 130785,\n",
    "}\n",
    "\n",
    "households_series = pd.Series(households_dict)\n",
    "\n",
    "households_series"
   ]
  },
  {
   "cell_type": "code",
   "execution_count": 28,
   "id": "3d19eec7-d22d-47c6-ad7b-3ec74a9ec05d",
   "metadata": {},
   "outputs": [
    {
     "data": {
      "text/html": [
       "<div>\n",
       "<style scoped>\n",
       "    .dataframe tbody tr th:only-of-type {\n",
       "        vertical-align: middle;\n",
       "    }\n",
       "\n",
       "    .dataframe tbody tr th {\n",
       "        vertical-align: top;\n",
       "    }\n",
       "\n",
       "    .dataframe thead th {\n",
       "        text-align: right;\n",
       "    }\n",
       "</style>\n",
       "<table border=\"1\" class=\"dataframe\">\n",
       "  <thead>\n",
       "    <tr style=\"text-align: right;\">\n",
       "      <th></th>\n",
       "      <th>median_income</th>\n",
       "      <th>households</th>\n",
       "    </tr>\n",
       "  </thead>\n",
       "  <tbody>\n",
       "    <tr>\n",
       "      <th>Alexandria</th>\n",
       "      <td>80847</td>\n",
       "      <td>68082</td>\n",
       "    </tr>\n",
       "    <tr>\n",
       "      <th>Amherst</th>\n",
       "      <td>44757</td>\n",
       "      <td>12560</td>\n",
       "    </tr>\n",
       "    <tr>\n",
       "      <th>Arlington</th>\n",
       "      <td>94880</td>\n",
       "      <td>98050</td>\n",
       "    </tr>\n",
       "    <tr>\n",
       "      <th>Augusta</th>\n",
       "      <td>50612</td>\n",
       "      <td>28516</td>\n",
       "    </tr>\n",
       "    <tr>\n",
       "      <th>Bedford</th>\n",
       "      <td>54110</td>\n",
       "      <td>27465</td>\n",
       "    </tr>\n",
       "    <tr>\n",
       "      <th>Botetourt</th>\n",
       "      <td>64724</td>\n",
       "      <td>13126</td>\n",
       "    </tr>\n",
       "    <tr>\n",
       "      <th>Fairfax</th>\n",
       "      <td>105416</td>\n",
       "      <td>391627</td>\n",
       "    </tr>\n",
       "    <tr>\n",
       "      <th>Falls Church</th>\n",
       "      <td>114409</td>\n",
       "      <td>5101</td>\n",
       "    </tr>\n",
       "    <tr>\n",
       "      <th>Prince William</th>\n",
       "      <td>91098</td>\n",
       "      <td>130785</td>\n",
       "    </tr>\n",
       "  </tbody>\n",
       "</table>\n",
       "</div>"
      ],
      "text/plain": [
       "                median_income  households\n",
       "Alexandria              80847       68082\n",
       "Amherst                 44757       12560\n",
       "Arlington               94880       98050\n",
       "Augusta                 50612       28516\n",
       "Bedford                 54110       27465\n",
       "Botetourt               64724       13126\n",
       "Fairfax                105416      391627\n",
       "Falls Church           114409        5101\n",
       "Prince William          91098      130785"
      ]
     },
     "execution_count": 28,
     "metadata": {},
     "output_type": "execute_result"
    }
   ],
   "source": [
    "counties = pd.DataFrame({\n",
    "    \"median_income\": median_income_series,\n",
    "    \"households\": households_series\n",
    "})\n",
    "\n",
    "counties"
   ]
  },
  {
   "cell_type": "code",
   "execution_count": 29,
   "id": "790c4658-4eae-4ef8-b415-671497138dc7",
   "metadata": {},
   "outputs": [
    {
     "data": {
      "text/plain": [
       "Index(['median_income', 'households'], dtype='object')"
      ]
     },
     "execution_count": 29,
     "metadata": {},
     "output_type": "execute_result"
    }
   ],
   "source": [
    "counties.columns"
   ]
  },
  {
   "cell_type": "code",
   "execution_count": 30,
   "id": "cda082ad-89bf-4982-9ed9-27b6fb8fcabc",
   "metadata": {},
   "outputs": [
    {
     "data": {
      "text/plain": [
       "Index(['Alexandria', 'Amherst', 'Arlington', 'Augusta', 'Bedford', 'Botetourt',\n",
       "       'Fairfax', 'Falls Church', 'Prince William'],\n",
       "      dtype='object')"
      ]
     },
     "execution_count": 30,
     "metadata": {},
     "output_type": "execute_result"
    }
   ],
   "source": [
    "counties.index"
   ]
  },
  {
   "cell_type": "code",
   "execution_count": 31,
   "id": "8890c33d-f07f-48e2-94d3-577af5f30f6a",
   "metadata": {},
   "outputs": [
    {
     "data": {
      "text/plain": [
       "array([[ 80847,  68082],\n",
       "       [ 44757,  12560],\n",
       "       [ 94880,  98050],\n",
       "       [ 50612,  28516],\n",
       "       [ 54110,  27465],\n",
       "       [ 64724,  13126],\n",
       "       [105416, 391627],\n",
       "       [114409,   5101],\n",
       "       [ 91098, 130785]], dtype=int64)"
      ]
     },
     "execution_count": 31,
     "metadata": {},
     "output_type": "execute_result"
    }
   ],
   "source": [
    "counties.values"
   ]
  },
  {
   "cell_type": "code",
   "execution_count": 32,
   "id": "bf16693d-6c9e-4fe8-a5c0-b5ad2fb5d6cc",
   "metadata": {},
   "outputs": [
    {
     "data": {
      "text/plain": [
       "(9, 2)"
      ]
     },
     "execution_count": 32,
     "metadata": {},
     "output_type": "execute_result"
    }
   ],
   "source": [
    "counties.values.shape"
   ]
  },
  {
   "cell_type": "code",
   "execution_count": 34,
   "id": "77b0e987-921d-4fcc-9058-d415fb1b61c6",
   "metadata": {},
   "outputs": [
    {
     "name": "stdout",
     "output_type": "stream",
     "text": [
      "False\n",
      "(9, 2)\n",
      "(9, 2)\n"
     ]
    }
   ],
   "source": [
    "a = counties.values\n",
    "b = counties.values\n",
    "\n",
    "print(id(a) == id(b))\n",
    "print(a.shape)\n",
    "print(b.shape)"
   ]
  },
  {
   "cell_type": "code",
   "execution_count": 36,
   "id": "abfd675c-6970-47ab-9248-b3826f47771e",
   "metadata": {},
   "outputs": [
    {
     "data": {
      "text/plain": [
       "999"
      ]
     },
     "execution_count": 36,
     "metadata": {},
     "output_type": "execute_result"
    }
   ],
   "source": [
    "a[0,0] = 999\n",
    "a[0,0]"
   ]
  },
  {
   "cell_type": "code",
   "execution_count": 38,
   "id": "35cb2b98-2c73-48cf-9857-5373ddf362ad",
   "metadata": {},
   "outputs": [
    {
     "data": {
      "text/plain": [
       "80847"
      ]
     },
     "execution_count": 38,
     "metadata": {},
     "output_type": "execute_result"
    }
   ],
   "source": [
    "b[0,0]"
   ]
  },
  {
   "cell_type": "code",
   "execution_count": 39,
   "id": "927cab69-8c3f-46df-9f02-70c9a213ed33",
   "metadata": {},
   "outputs": [
    {
     "data": {
      "text/html": [
       "<div>\n",
       "<style scoped>\n",
       "    .dataframe tbody tr th:only-of-type {\n",
       "        vertical-align: middle;\n",
       "    }\n",
       "\n",
       "    .dataframe tbody tr th {\n",
       "        vertical-align: top;\n",
       "    }\n",
       "\n",
       "    .dataframe thead th {\n",
       "        text-align: right;\n",
       "    }\n",
       "</style>\n",
       "<table border=\"1\" class=\"dataframe\">\n",
       "  <thead>\n",
       "    <tr style=\"text-align: right;\">\n",
       "      <th></th>\n",
       "      <th>Median Income</th>\n",
       "      <th>Households</th>\n",
       "    </tr>\n",
       "  </thead>\n",
       "  <tbody>\n",
       "    <tr>\n",
       "      <th>Alexandria</th>\n",
       "      <td>80847</td>\n",
       "      <td>68082</td>\n",
       "    </tr>\n",
       "    <tr>\n",
       "      <th>Amherst</th>\n",
       "      <td>44757</td>\n",
       "      <td>12560</td>\n",
       "    </tr>\n",
       "    <tr>\n",
       "      <th>Arlington</th>\n",
       "      <td>94880</td>\n",
       "      <td>98050</td>\n",
       "    </tr>\n",
       "    <tr>\n",
       "      <th>Augusta</th>\n",
       "      <td>50612</td>\n",
       "      <td>28516</td>\n",
       "    </tr>\n",
       "    <tr>\n",
       "      <th>Bedford</th>\n",
       "      <td>54110</td>\n",
       "      <td>27465</td>\n",
       "    </tr>\n",
       "    <tr>\n",
       "      <th>Botetourt</th>\n",
       "      <td>64724</td>\n",
       "      <td>13126</td>\n",
       "    </tr>\n",
       "    <tr>\n",
       "      <th>Fairfax</th>\n",
       "      <td>105416</td>\n",
       "      <td>391627</td>\n",
       "    </tr>\n",
       "    <tr>\n",
       "      <th>Falls Church</th>\n",
       "      <td>114409</td>\n",
       "      <td>5101</td>\n",
       "    </tr>\n",
       "    <tr>\n",
       "      <th>Prince William</th>\n",
       "      <td>91098</td>\n",
       "      <td>130785</td>\n",
       "    </tr>\n",
       "  </tbody>\n",
       "</table>\n",
       "</div>"
      ],
      "text/plain": [
       "                Median Income  Households\n",
       "Alexandria              80847       68082\n",
       "Amherst                 44757       12560\n",
       "Arlington               94880       98050\n",
       "Augusta                 50612       28516\n",
       "Bedford                 54110       27465\n",
       "Botetourt               64724       13126\n",
       "Fairfax                105416      391627\n",
       "Falls Church           114409        5101\n",
       "Prince William          91098      130785"
      ]
     },
     "execution_count": 39,
     "metadata": {},
     "output_type": "execute_result"
    }
   ],
   "source": [
    "counties.columns = [\"Median Income\", \"Households\"]\n",
    "\n",
    "counties"
   ]
  },
  {
   "cell_type": "code",
   "execution_count": 41,
   "id": "9bb35ec1-5c3a-4502-8e93-4aca47dc8427",
   "metadata": {},
   "outputs": [
    {
     "data": {
      "text/plain": [
       "Alexandria      Median Income     80847\n",
       "                Households        68082\n",
       "Amherst         Median Income     44757\n",
       "                Households        12560\n",
       "Arlington       Median Income     94880\n",
       "                Households        98050\n",
       "Augusta         Median Income     50612\n",
       "                Households        28516\n",
       "Bedford         Median Income     54110\n",
       "                Households        27465\n",
       "Botetourt       Median Income     64724\n",
       "                Households        13126\n",
       "Fairfax         Median Income    105416\n",
       "                Households       391627\n",
       "Falls Church    Median Income    114409\n",
       "                Households         5101\n",
       "Prince William  Median Income     91098\n",
       "                Households       130785\n",
       "dtype: int64"
      ]
     },
     "execution_count": 41,
     "metadata": {},
     "output_type": "execute_result"
    }
   ],
   "source": [
    "counties2 = counties.stack()\n",
    "\n",
    "counties2"
   ]
  },
  {
   "cell_type": "code",
   "execution_count": 43,
   "id": "b46dfde8-6a1b-4269-8633-6b18094fdfcf",
   "metadata": {},
   "outputs": [
    {
     "name": "stdout",
     "output_type": "stream",
     "text": [
      "<class 'pandas.core.series.Series'>\n"
     ]
    },
    {
     "data": {
      "text/plain": [
       "MultiIndex([(    'Alexandria', 'Median Income'),\n",
       "            (    'Alexandria',    'Households'),\n",
       "            (       'Amherst', 'Median Income'),\n",
       "            (       'Amherst',    'Households'),\n",
       "            (     'Arlington', 'Median Income'),\n",
       "            (     'Arlington',    'Households'),\n",
       "            (       'Augusta', 'Median Income'),\n",
       "            (       'Augusta',    'Households'),\n",
       "            (       'Bedford', 'Median Income'),\n",
       "            (       'Bedford',    'Households'),\n",
       "            (     'Botetourt', 'Median Income'),\n",
       "            (     'Botetourt',    'Households'),\n",
       "            (       'Fairfax', 'Median Income'),\n",
       "            (       'Fairfax',    'Households'),\n",
       "            (  'Falls Church', 'Median Income'),\n",
       "            (  'Falls Church',    'Households'),\n",
       "            ('Prince William', 'Median Income'),\n",
       "            ('Prince William',    'Households')],\n",
       "           )"
      ]
     },
     "execution_count": 43,
     "metadata": {},
     "output_type": "execute_result"
    }
   ],
   "source": [
    "print(type(counties2))\n",
    "counties2.index"
   ]
  },
  {
   "cell_type": "code",
   "execution_count": 44,
   "id": "05bd8e3d-4279-49ea-8ab5-313c813a86e3",
   "metadata": {},
   "outputs": [
    {
     "data": {
      "text/html": [
       "<div>\n",
       "<style scoped>\n",
       "    .dataframe tbody tr th:only-of-type {\n",
       "        vertical-align: middle;\n",
       "    }\n",
       "\n",
       "    .dataframe tbody tr th {\n",
       "        vertical-align: top;\n",
       "    }\n",
       "\n",
       "    .dataframe thead th {\n",
       "        text-align: right;\n",
       "    }\n",
       "</style>\n",
       "<table border=\"1\" class=\"dataframe\">\n",
       "  <thead>\n",
       "    <tr style=\"text-align: right;\">\n",
       "      <th></th>\n",
       "      <th>Median Income</th>\n",
       "      <th>Households</th>\n",
       "    </tr>\n",
       "  </thead>\n",
       "  <tbody>\n",
       "    <tr>\n",
       "      <th>Alexandria</th>\n",
       "      <td>80847</td>\n",
       "      <td>68082</td>\n",
       "    </tr>\n",
       "    <tr>\n",
       "      <th>Amherst</th>\n",
       "      <td>44757</td>\n",
       "      <td>12560</td>\n",
       "    </tr>\n",
       "    <tr>\n",
       "      <th>Arlington</th>\n",
       "      <td>94880</td>\n",
       "      <td>98050</td>\n",
       "    </tr>\n",
       "    <tr>\n",
       "      <th>Augusta</th>\n",
       "      <td>50612</td>\n",
       "      <td>28516</td>\n",
       "    </tr>\n",
       "    <tr>\n",
       "      <th>Bedford</th>\n",
       "      <td>54110</td>\n",
       "      <td>27465</td>\n",
       "    </tr>\n",
       "    <tr>\n",
       "      <th>Botetourt</th>\n",
       "      <td>64724</td>\n",
       "      <td>13126</td>\n",
       "    </tr>\n",
       "    <tr>\n",
       "      <th>Fairfax</th>\n",
       "      <td>105416</td>\n",
       "      <td>391627</td>\n",
       "    </tr>\n",
       "    <tr>\n",
       "      <th>Falls Church</th>\n",
       "      <td>114409</td>\n",
       "      <td>5101</td>\n",
       "    </tr>\n",
       "    <tr>\n",
       "      <th>Prince William</th>\n",
       "      <td>91098</td>\n",
       "      <td>130785</td>\n",
       "    </tr>\n",
       "  </tbody>\n",
       "</table>\n",
       "</div>"
      ],
      "text/plain": [
       "                Median Income  Households\n",
       "Alexandria              80847       68082\n",
       "Amherst                 44757       12560\n",
       "Arlington               94880       98050\n",
       "Augusta                 50612       28516\n",
       "Bedford                 54110       27465\n",
       "Botetourt               64724       13126\n",
       "Fairfax                105416      391627\n",
       "Falls Church           114409        5101\n",
       "Prince William          91098      130785"
      ]
     },
     "execution_count": 44,
     "metadata": {},
     "output_type": "execute_result"
    }
   ],
   "source": [
    "counties2 = counties2.unstack()\n",
    "\n",
    "counties2"
   ]
  },
  {
   "cell_type": "code",
   "execution_count": 45,
   "id": "00de0753-5cb3-4671-9574-c58e30db5cae",
   "metadata": {},
   "outputs": [
    {
     "data": {
      "text/plain": [
       "Median Income  Alexandria         80847\n",
       "               Amherst            44757\n",
       "               Arlington          94880\n",
       "               Augusta            50612\n",
       "               Bedford            54110\n",
       "               Botetourt          64724\n",
       "               Fairfax           105416\n",
       "               Falls Church      114409\n",
       "               Prince William     91098\n",
       "Households     Alexandria         68082\n",
       "               Amherst            12560\n",
       "               Arlington          98050\n",
       "               Augusta            28516\n",
       "               Bedford            27465\n",
       "               Botetourt          13126\n",
       "               Fairfax           391627\n",
       "               Falls Church        5101\n",
       "               Prince William    130785\n",
       "dtype: int64"
      ]
     },
     "execution_count": 45,
     "metadata": {},
     "output_type": "execute_result"
    }
   ],
   "source": [
    "counties2 = counties2.unstack(0)\n",
    "\n",
    "counties2"
   ]
  },
  {
   "cell_type": "code",
   "execution_count": 47,
   "id": "7dca49c5-e24d-4d03-98ed-bd541ba53422",
   "metadata": {},
   "outputs": [
    {
     "data": {
      "text/plain": [
       "44757"
      ]
     },
     "execution_count": 47,
     "metadata": {},
     "output_type": "execute_result"
    }
   ],
   "source": [
    "counties2[\"Median Income\"][\"Amherst\"]"
   ]
  },
  {
   "cell_type": "code",
   "execution_count": 48,
   "id": "722acb7a-f834-4cb2-b13e-b8f23ba393ab",
   "metadata": {},
   "outputs": [
    {
     "data": {
      "text/html": [
       "<div>\n",
       "<style scoped>\n",
       "    .dataframe tbody tr th:only-of-type {\n",
       "        vertical-align: middle;\n",
       "    }\n",
       "\n",
       "    .dataframe tbody tr th {\n",
       "        vertical-align: top;\n",
       "    }\n",
       "\n",
       "    .dataframe thead th {\n",
       "        text-align: right;\n",
       "    }\n",
       "</style>\n",
       "<table border=\"1\" class=\"dataframe\">\n",
       "  <thead>\n",
       "    <tr style=\"text-align: right;\">\n",
       "      <th></th>\n",
       "      <th>Median Income</th>\n",
       "      <th>Households</th>\n",
       "    </tr>\n",
       "  </thead>\n",
       "  <tbody>\n",
       "    <tr>\n",
       "      <th>Alexandria</th>\n",
       "      <td>80847</td>\n",
       "      <td>68082</td>\n",
       "    </tr>\n",
       "    <tr>\n",
       "      <th>Amherst</th>\n",
       "      <td>44757</td>\n",
       "      <td>12560</td>\n",
       "    </tr>\n",
       "    <tr>\n",
       "      <th>Arlington</th>\n",
       "      <td>94880</td>\n",
       "      <td>98050</td>\n",
       "    </tr>\n",
       "    <tr>\n",
       "      <th>Augusta</th>\n",
       "      <td>50612</td>\n",
       "      <td>28516</td>\n",
       "    </tr>\n",
       "    <tr>\n",
       "      <th>Bedford</th>\n",
       "      <td>54110</td>\n",
       "      <td>27465</td>\n",
       "    </tr>\n",
       "    <tr>\n",
       "      <th>Botetourt</th>\n",
       "      <td>64724</td>\n",
       "      <td>13126</td>\n",
       "    </tr>\n",
       "    <tr>\n",
       "      <th>Fairfax</th>\n",
       "      <td>105416</td>\n",
       "      <td>391627</td>\n",
       "    </tr>\n",
       "    <tr>\n",
       "      <th>Falls Church</th>\n",
       "      <td>114409</td>\n",
       "      <td>5101</td>\n",
       "    </tr>\n",
       "    <tr>\n",
       "      <th>Prince William</th>\n",
       "      <td>91098</td>\n",
       "      <td>130785</td>\n",
       "    </tr>\n",
       "  </tbody>\n",
       "</table>\n",
       "</div>"
      ],
      "text/plain": [
       "                Median Income  Households\n",
       "Alexandria              80847       68082\n",
       "Amherst                 44757       12560\n",
       "Arlington               94880       98050\n",
       "Augusta                 50612       28516\n",
       "Bedford                 54110       27465\n",
       "Botetourt               64724       13126\n",
       "Fairfax                105416      391627\n",
       "Falls Church           114409        5101\n",
       "Prince William          91098      130785"
      ]
     },
     "execution_count": 48,
     "metadata": {},
     "output_type": "execute_result"
    }
   ],
   "source": [
    "counties2 = counties2.unstack(0)\n",
    "\n",
    "counties2"
   ]
  },
  {
   "cell_type": "code",
   "execution_count": 50,
   "id": "4711aaf1-18c4-4851-b02a-1dd26d8b44c8",
   "metadata": {},
   "outputs": [
    {
     "data": {
      "text/html": [
       "<div>\n",
       "<style scoped>\n",
       "    .dataframe tbody tr th:only-of-type {\n",
       "        vertical-align: middle;\n",
       "    }\n",
       "\n",
       "    .dataframe tbody tr th {\n",
       "        vertical-align: top;\n",
       "    }\n",
       "\n",
       "    .dataframe thead th {\n",
       "        text-align: right;\n",
       "    }\n",
       "</style>\n",
       "<table border=\"1\" class=\"dataframe\">\n",
       "  <thead>\n",
       "    <tr style=\"text-align: right;\">\n",
       "      <th></th>\n",
       "      <th>Alexandria</th>\n",
       "      <th>Amherst</th>\n",
       "      <th>Arlington</th>\n",
       "      <th>Augusta</th>\n",
       "      <th>Bedford</th>\n",
       "      <th>Botetourt</th>\n",
       "      <th>Fairfax</th>\n",
       "      <th>Falls Church</th>\n",
       "      <th>Prince William</th>\n",
       "    </tr>\n",
       "  </thead>\n",
       "  <tbody>\n",
       "    <tr>\n",
       "      <th>Median Income</th>\n",
       "      <td>80847</td>\n",
       "      <td>44757</td>\n",
       "      <td>94880</td>\n",
       "      <td>50612</td>\n",
       "      <td>54110</td>\n",
       "      <td>64724</td>\n",
       "      <td>105416</td>\n",
       "      <td>114409</td>\n",
       "      <td>91098</td>\n",
       "    </tr>\n",
       "    <tr>\n",
       "      <th>Households</th>\n",
       "      <td>68082</td>\n",
       "      <td>12560</td>\n",
       "      <td>98050</td>\n",
       "      <td>28516</td>\n",
       "      <td>27465</td>\n",
       "      <td>13126</td>\n",
       "      <td>391627</td>\n",
       "      <td>5101</td>\n",
       "      <td>130785</td>\n",
       "    </tr>\n",
       "  </tbody>\n",
       "</table>\n",
       "</div>"
      ],
      "text/plain": [
       "               Alexandria  Amherst  Arlington  Augusta  Bedford  Botetourt  \\\n",
       "Median Income       80847    44757      94880    50612    54110      64724   \n",
       "Households          68082    12560      98050    28516    27465      13126   \n",
       "\n",
       "               Fairfax  Falls Church  Prince William  \n",
       "Median Income   105416        114409           91098  \n",
       "Households      391627          5101          130785  "
      ]
     },
     "execution_count": 50,
     "metadata": {},
     "output_type": "execute_result"
    }
   ],
   "source": [
    "counties2 = counties2.unstack()\n",
    "\n",
    "counties2"
   ]
  },
  {
   "cell_type": "code",
   "execution_count": 51,
   "id": "c9ca2818-d8d5-4979-ac2f-591796cd3328",
   "metadata": {},
   "outputs": [
    {
     "data": {
      "text/plain": [
       "Median Income     int32\n",
       "Households        int64\n",
       "Region           object\n",
       "dtype: object"
      ]
     },
     "execution_count": 51,
     "metadata": {},
     "output_type": "execute_result"
    }
   ],
   "source": [
    "counties[\"Region\"] = [\n",
    "    \"Northern\",\n",
    "    \"Central\",\n",
    "    \"Northern\",\n",
    "    \"Central\",\n",
    "    \"Central\",\n",
    "    \"Southwestern\",\n",
    "    \"Northern\",\n",
    "    \"Northern\",\n",
    "    \"Northern\",\n",
    "]\n",
    "\n",
    "counties.dtypes"
   ]
  },
  {
   "cell_type": "code",
   "execution_count": 52,
   "id": "a270ab6e-c28b-477a-bfa9-ae6c8545817c",
   "metadata": {},
   "outputs": [
    {
     "data": {
      "text/html": [
       "<div>\n",
       "<style scoped>\n",
       "    .dataframe tbody tr th:only-of-type {\n",
       "        vertical-align: middle;\n",
       "    }\n",
       "\n",
       "    .dataframe tbody tr th {\n",
       "        vertical-align: top;\n",
       "    }\n",
       "\n",
       "    .dataframe thead th {\n",
       "        text-align: right;\n",
       "    }\n",
       "</style>\n",
       "<table border=\"1\" class=\"dataframe\">\n",
       "  <thead>\n",
       "    <tr style=\"text-align: right;\">\n",
       "      <th></th>\n",
       "      <th>Median Income</th>\n",
       "      <th>Households</th>\n",
       "      <th>Region</th>\n",
       "    </tr>\n",
       "  </thead>\n",
       "  <tbody>\n",
       "    <tr>\n",
       "      <th>Alexandria</th>\n",
       "      <td>80847</td>\n",
       "      <td>68082</td>\n",
       "      <td>Northern</td>\n",
       "    </tr>\n",
       "    <tr>\n",
       "      <th>Amherst</th>\n",
       "      <td>44757</td>\n",
       "      <td>12560</td>\n",
       "      <td>Central</td>\n",
       "    </tr>\n",
       "    <tr>\n",
       "      <th>Arlington</th>\n",
       "      <td>94880</td>\n",
       "      <td>98050</td>\n",
       "      <td>Northern</td>\n",
       "    </tr>\n",
       "    <tr>\n",
       "      <th>Augusta</th>\n",
       "      <td>50612</td>\n",
       "      <td>28516</td>\n",
       "      <td>Central</td>\n",
       "    </tr>\n",
       "    <tr>\n",
       "      <th>Bedford</th>\n",
       "      <td>54110</td>\n",
       "      <td>27465</td>\n",
       "      <td>Central</td>\n",
       "    </tr>\n",
       "    <tr>\n",
       "      <th>Botetourt</th>\n",
       "      <td>64724</td>\n",
       "      <td>13126</td>\n",
       "      <td>Southwestern</td>\n",
       "    </tr>\n",
       "    <tr>\n",
       "      <th>Fairfax</th>\n",
       "      <td>105416</td>\n",
       "      <td>391627</td>\n",
       "      <td>Northern</td>\n",
       "    </tr>\n",
       "    <tr>\n",
       "      <th>Falls Church</th>\n",
       "      <td>114409</td>\n",
       "      <td>5101</td>\n",
       "      <td>Northern</td>\n",
       "    </tr>\n",
       "    <tr>\n",
       "      <th>Prince William</th>\n",
       "      <td>91098</td>\n",
       "      <td>130785</td>\n",
       "      <td>Northern</td>\n",
       "    </tr>\n",
       "  </tbody>\n",
       "</table>\n",
       "</div>"
      ],
      "text/plain": [
       "                Median Income  Households        Region\n",
       "Alexandria              80847       68082      Northern\n",
       "Amherst                 44757       12560       Central\n",
       "Arlington               94880       98050      Northern\n",
       "Augusta                 50612       28516       Central\n",
       "Bedford                 54110       27465       Central\n",
       "Botetourt               64724       13126  Southwestern\n",
       "Fairfax                105416      391627      Northern\n",
       "Falls Church           114409        5101      Northern\n",
       "Prince William          91098      130785      Northern"
      ]
     },
     "execution_count": 52,
     "metadata": {},
     "output_type": "execute_result"
    }
   ],
   "source": [
    "counties"
   ]
  },
  {
   "cell_type": "code",
   "execution_count": 53,
   "id": "427b54f6-e57c-4650-8230-10385672b53d",
   "metadata": {},
   "outputs": [
    {
     "data": {
      "text/html": [
       "<div>\n",
       "<style scoped>\n",
       "    .dataframe tbody tr th:only-of-type {\n",
       "        vertical-align: middle;\n",
       "    }\n",
       "\n",
       "    .dataframe tbody tr th {\n",
       "        vertical-align: top;\n",
       "    }\n",
       "\n",
       "    .dataframe thead th {\n",
       "        text-align: right;\n",
       "    }\n",
       "</style>\n",
       "<table border=\"1\" class=\"dataframe\">\n",
       "  <thead>\n",
       "    <tr style=\"text-align: right;\">\n",
       "      <th></th>\n",
       "      <th>Median Income</th>\n",
       "      <th>Households</th>\n",
       "      <th>Region</th>\n",
       "      <th>Total Household Income</th>\n",
       "    </tr>\n",
       "  </thead>\n",
       "  <tbody>\n",
       "    <tr>\n",
       "      <th>Alexandria</th>\n",
       "      <td>80847</td>\n",
       "      <td>68082</td>\n",
       "      <td>Northern</td>\n",
       "      <td>5504225454</td>\n",
       "    </tr>\n",
       "    <tr>\n",
       "      <th>Amherst</th>\n",
       "      <td>44757</td>\n",
       "      <td>12560</td>\n",
       "      <td>Central</td>\n",
       "      <td>562147920</td>\n",
       "    </tr>\n",
       "    <tr>\n",
       "      <th>Arlington</th>\n",
       "      <td>94880</td>\n",
       "      <td>98050</td>\n",
       "      <td>Northern</td>\n",
       "      <td>9302984000</td>\n",
       "    </tr>\n",
       "    <tr>\n",
       "      <th>Augusta</th>\n",
       "      <td>50612</td>\n",
       "      <td>28516</td>\n",
       "      <td>Central</td>\n",
       "      <td>1443251792</td>\n",
       "    </tr>\n",
       "    <tr>\n",
       "      <th>Bedford</th>\n",
       "      <td>54110</td>\n",
       "      <td>27465</td>\n",
       "      <td>Central</td>\n",
       "      <td>1486131150</td>\n",
       "    </tr>\n",
       "    <tr>\n",
       "      <th>Botetourt</th>\n",
       "      <td>64724</td>\n",
       "      <td>13126</td>\n",
       "      <td>Southwestern</td>\n",
       "      <td>849567224</td>\n",
       "    </tr>\n",
       "    <tr>\n",
       "      <th>Fairfax</th>\n",
       "      <td>105416</td>\n",
       "      <td>391627</td>\n",
       "      <td>Northern</td>\n",
       "      <td>41283751832</td>\n",
       "    </tr>\n",
       "    <tr>\n",
       "      <th>Falls Church</th>\n",
       "      <td>114409</td>\n",
       "      <td>5101</td>\n",
       "      <td>Northern</td>\n",
       "      <td>583600309</td>\n",
       "    </tr>\n",
       "    <tr>\n",
       "      <th>Prince William</th>\n",
       "      <td>91098</td>\n",
       "      <td>130785</td>\n",
       "      <td>Northern</td>\n",
       "      <td>11914251930</td>\n",
       "    </tr>\n",
       "  </tbody>\n",
       "</table>\n",
       "</div>"
      ],
      "text/plain": [
       "                Median Income  Households        Region  \\\n",
       "Alexandria              80847       68082      Northern   \n",
       "Amherst                 44757       12560       Central   \n",
       "Arlington               94880       98050      Northern   \n",
       "Augusta                 50612       28516       Central   \n",
       "Bedford                 54110       27465       Central   \n",
       "Botetourt               64724       13126  Southwestern   \n",
       "Fairfax                105416      391627      Northern   \n",
       "Falls Church           114409        5101      Northern   \n",
       "Prince William          91098      130785      Northern   \n",
       "\n",
       "                Total Household Income  \n",
       "Alexandria                  5504225454  \n",
       "Amherst                      562147920  \n",
       "Arlington                   9302984000  \n",
       "Augusta                     1443251792  \n",
       "Bedford                     1486131150  \n",
       "Botetourt                    849567224  \n",
       "Fairfax                    41283751832  \n",
       "Falls Church                 583600309  \n",
       "Prince William             11914251930  "
      ]
     },
     "execution_count": 53,
     "metadata": {},
     "output_type": "execute_result"
    }
   ],
   "source": [
    "counties[\"Total Household Income\"] = counties[\"Median Income\"] * counties[\"Households\"]\n",
    "\n",
    "counties"
   ]
  },
  {
   "cell_type": "code",
   "execution_count": 54,
   "id": "8e070fd8-076a-42eb-b2e1-7c4682ec5a84",
   "metadata": {},
   "outputs": [],
   "source": [
    "counties.index.name = \"County\""
   ]
  },
  {
   "cell_type": "code",
   "execution_count": 55,
   "id": "5c5dc52a-c931-43fd-a821-9c431a96f713",
   "metadata": {},
   "outputs": [
    {
     "data": {
      "text/html": [
       "<div>\n",
       "<style scoped>\n",
       "    .dataframe tbody tr th:only-of-type {\n",
       "        vertical-align: middle;\n",
       "    }\n",
       "\n",
       "    .dataframe tbody tr th {\n",
       "        vertical-align: top;\n",
       "    }\n",
       "\n",
       "    .dataframe thead th {\n",
       "        text-align: right;\n",
       "    }\n",
       "</style>\n",
       "<table border=\"1\" class=\"dataframe\">\n",
       "  <thead>\n",
       "    <tr style=\"text-align: right;\">\n",
       "      <th></th>\n",
       "      <th>Median Income</th>\n",
       "      <th>Households</th>\n",
       "      <th>Region</th>\n",
       "      <th>Total Household Income</th>\n",
       "    </tr>\n",
       "    <tr>\n",
       "      <th>County</th>\n",
       "      <th></th>\n",
       "      <th></th>\n",
       "      <th></th>\n",
       "      <th></th>\n",
       "    </tr>\n",
       "  </thead>\n",
       "  <tbody>\n",
       "    <tr>\n",
       "      <th>Alexandria</th>\n",
       "      <td>80847</td>\n",
       "      <td>68082</td>\n",
       "      <td>Northern</td>\n",
       "      <td>5504225454</td>\n",
       "    </tr>\n",
       "    <tr>\n",
       "      <th>Amherst</th>\n",
       "      <td>44757</td>\n",
       "      <td>12560</td>\n",
       "      <td>Central</td>\n",
       "      <td>562147920</td>\n",
       "    </tr>\n",
       "    <tr>\n",
       "      <th>Arlington</th>\n",
       "      <td>94880</td>\n",
       "      <td>98050</td>\n",
       "      <td>Northern</td>\n",
       "      <td>9302984000</td>\n",
       "    </tr>\n",
       "    <tr>\n",
       "      <th>Augusta</th>\n",
       "      <td>50612</td>\n",
       "      <td>28516</td>\n",
       "      <td>Central</td>\n",
       "      <td>1443251792</td>\n",
       "    </tr>\n",
       "    <tr>\n",
       "      <th>Bedford</th>\n",
       "      <td>54110</td>\n",
       "      <td>27465</td>\n",
       "      <td>Central</td>\n",
       "      <td>1486131150</td>\n",
       "    </tr>\n",
       "    <tr>\n",
       "      <th>Botetourt</th>\n",
       "      <td>64724</td>\n",
       "      <td>13126</td>\n",
       "      <td>Southwestern</td>\n",
       "      <td>849567224</td>\n",
       "    </tr>\n",
       "    <tr>\n",
       "      <th>Fairfax</th>\n",
       "      <td>105416</td>\n",
       "      <td>391627</td>\n",
       "      <td>Northern</td>\n",
       "      <td>41283751832</td>\n",
       "    </tr>\n",
       "    <tr>\n",
       "      <th>Falls Church</th>\n",
       "      <td>114409</td>\n",
       "      <td>5101</td>\n",
       "      <td>Northern</td>\n",
       "      <td>583600309</td>\n",
       "    </tr>\n",
       "    <tr>\n",
       "      <th>Prince William</th>\n",
       "      <td>91098</td>\n",
       "      <td>130785</td>\n",
       "      <td>Northern</td>\n",
       "      <td>11914251930</td>\n",
       "    </tr>\n",
       "  </tbody>\n",
       "</table>\n",
       "</div>"
      ],
      "text/plain": [
       "                Median Income  Households        Region  \\\n",
       "County                                                    \n",
       "Alexandria              80847       68082      Northern   \n",
       "Amherst                 44757       12560       Central   \n",
       "Arlington               94880       98050      Northern   \n",
       "Augusta                 50612       28516       Central   \n",
       "Bedford                 54110       27465       Central   \n",
       "Botetourt               64724       13126  Southwestern   \n",
       "Fairfax                105416      391627      Northern   \n",
       "Falls Church           114409        5101      Northern   \n",
       "Prince William          91098      130785      Northern   \n",
       "\n",
       "                Total Household Income  \n",
       "County                                  \n",
       "Alexandria                  5504225454  \n",
       "Amherst                      562147920  \n",
       "Arlington                   9302984000  \n",
       "Augusta                     1443251792  \n",
       "Bedford                     1486131150  \n",
       "Botetourt                    849567224  \n",
       "Fairfax                    41283751832  \n",
       "Falls Church                 583600309  \n",
       "Prince William             11914251930  "
      ]
     },
     "execution_count": 55,
     "metadata": {},
     "output_type": "execute_result"
    }
   ],
   "source": [
    "counties"
   ]
  },
  {
   "cell_type": "code",
   "execution_count": 56,
   "id": "df92f247-b65d-482c-b67d-4205ba76d11d",
   "metadata": {},
   "outputs": [],
   "source": [
    "counties.to_csv(\"counties.csv\")"
   ]
  },
  {
   "cell_type": "code",
   "execution_count": 57,
   "id": "12b3f43f-bc26-4087-ae00-66879700b439",
   "metadata": {},
   "outputs": [
    {
     "data": {
      "text/html": [
       "<div>\n",
       "<style scoped>\n",
       "    .dataframe tbody tr th:only-of-type {\n",
       "        vertical-align: middle;\n",
       "    }\n",
       "\n",
       "    .dataframe tbody tr th {\n",
       "        vertical-align: top;\n",
       "    }\n",
       "\n",
       "    .dataframe thead th {\n",
       "        text-align: right;\n",
       "    }\n",
       "</style>\n",
       "<table border=\"1\" class=\"dataframe\">\n",
       "  <thead>\n",
       "    <tr style=\"text-align: right;\">\n",
       "      <th></th>\n",
       "      <th>Median Income</th>\n",
       "      <th>Households</th>\n",
       "      <th>Region</th>\n",
       "      <th>Total Household Income</th>\n",
       "    </tr>\n",
       "    <tr>\n",
       "      <th>County</th>\n",
       "      <th></th>\n",
       "      <th></th>\n",
       "      <th></th>\n",
       "      <th></th>\n",
       "    </tr>\n",
       "  </thead>\n",
       "  <tbody>\n",
       "    <tr>\n",
       "      <th>Alexandria</th>\n",
       "      <td>80847</td>\n",
       "      <td>68082</td>\n",
       "      <td>Northern</td>\n",
       "      <td>5504225454</td>\n",
       "    </tr>\n",
       "    <tr>\n",
       "      <th>Amherst</th>\n",
       "      <td>44757</td>\n",
       "      <td>12560</td>\n",
       "      <td>Central</td>\n",
       "      <td>562147920</td>\n",
       "    </tr>\n",
       "    <tr>\n",
       "      <th>Arlington</th>\n",
       "      <td>94880</td>\n",
       "      <td>98050</td>\n",
       "      <td>Northern</td>\n",
       "      <td>9302984000</td>\n",
       "    </tr>\n",
       "    <tr>\n",
       "      <th>Augusta</th>\n",
       "      <td>50612</td>\n",
       "      <td>28516</td>\n",
       "      <td>Central</td>\n",
       "      <td>1443251792</td>\n",
       "    </tr>\n",
       "    <tr>\n",
       "      <th>Bedford</th>\n",
       "      <td>54110</td>\n",
       "      <td>27465</td>\n",
       "      <td>Central</td>\n",
       "      <td>1486131150</td>\n",
       "    </tr>\n",
       "    <tr>\n",
       "      <th>Botetourt</th>\n",
       "      <td>64724</td>\n",
       "      <td>13126</td>\n",
       "      <td>Southwestern</td>\n",
       "      <td>849567224</td>\n",
       "    </tr>\n",
       "    <tr>\n",
       "      <th>Fairfax</th>\n",
       "      <td>105416</td>\n",
       "      <td>391627</td>\n",
       "      <td>Northern</td>\n",
       "      <td>41283751832</td>\n",
       "    </tr>\n",
       "    <tr>\n",
       "      <th>Falls Church</th>\n",
       "      <td>114409</td>\n",
       "      <td>5101</td>\n",
       "      <td>Northern</td>\n",
       "      <td>583600309</td>\n",
       "    </tr>\n",
       "    <tr>\n",
       "      <th>Prince William</th>\n",
       "      <td>91098</td>\n",
       "      <td>130785</td>\n",
       "      <td>Northern</td>\n",
       "      <td>11914251930</td>\n",
       "    </tr>\n",
       "  </tbody>\n",
       "</table>\n",
       "</div>"
      ],
      "text/plain": [
       "                Median Income  Households        Region  \\\n",
       "County                                                    \n",
       "Alexandria              80847       68082      Northern   \n",
       "Amherst                 44757       12560       Central   \n",
       "Arlington               94880       98050      Northern   \n",
       "Augusta                 50612       28516       Central   \n",
       "Bedford                 54110       27465       Central   \n",
       "Botetourt               64724       13126  Southwestern   \n",
       "Fairfax                105416      391627      Northern   \n",
       "Falls Church           114409        5101      Northern   \n",
       "Prince William          91098      130785      Northern   \n",
       "\n",
       "                Total Household Income  \n",
       "County                                  \n",
       "Alexandria                  5504225454  \n",
       "Amherst                      562147920  \n",
       "Arlington                   9302984000  \n",
       "Augusta                     1443251792  \n",
       "Bedford                     1486131150  \n",
       "Botetourt                    849567224  \n",
       "Fairfax                    41283751832  \n",
       "Falls Church                 583600309  \n",
       "Prince William             11914251930  "
      ]
     },
     "execution_count": 57,
     "metadata": {},
     "output_type": "execute_result"
    }
   ],
   "source": [
    "counties3 = pd.read_csv(\"counties.csv\", index_col=0)\n",
    "\n",
    "counties3"
   ]
  },
  {
   "cell_type": "code",
   "execution_count": 58,
   "id": "b7281a8f-2db2-48ce-93c3-fe430dd8eac8",
   "metadata": {},
   "outputs": [
    {
     "data": {
      "text/html": [
       "<div>\n",
       "<style scoped>\n",
       "    .dataframe tbody tr th:only-of-type {\n",
       "        vertical-align: middle;\n",
       "    }\n",
       "\n",
       "    .dataframe tbody tr th {\n",
       "        vertical-align: top;\n",
       "    }\n",
       "\n",
       "    .dataframe thead th {\n",
       "        text-align: right;\n",
       "    }\n",
       "</style>\n",
       "<table border=\"1\" class=\"dataframe\">\n",
       "  <thead>\n",
       "    <tr style=\"text-align: right;\">\n",
       "      <th></th>\n",
       "      <th>Total Household Income</th>\n",
       "    </tr>\n",
       "    <tr>\n",
       "      <th>Region</th>\n",
       "      <th></th>\n",
       "    </tr>\n",
       "  </thead>\n",
       "  <tbody>\n",
       "    <tr>\n",
       "      <th>Central</th>\n",
       "      <td>3491530862</td>\n",
       "    </tr>\n",
       "    <tr>\n",
       "      <th>Northern</th>\n",
       "      <td>68588813525</td>\n",
       "    </tr>\n",
       "    <tr>\n",
       "      <th>Southwestern</th>\n",
       "      <td>849567224</td>\n",
       "    </tr>\n",
       "  </tbody>\n",
       "</table>\n",
       "</div>"
      ],
      "text/plain": [
       "              Total Household Income\n",
       "Region                              \n",
       "Central                   3491530862\n",
       "Northern                 68588813525\n",
       "Southwestern               849567224"
      ]
     },
     "execution_count": 58,
     "metadata": {},
     "output_type": "execute_result"
    }
   ],
   "source": [
    "table = counties3.pivot_table(values=['Total Household Income'], index=['Region'],\n",
    "                              aggfunc=np.sum)\n",
    "\n",
    "table"
   ]
  },
  {
   "cell_type": "code",
   "execution_count": 59,
   "id": "09d25ddb-d096-4b40-b0ba-5bef9d7a4bc4",
   "metadata": {},
   "outputs": [
    {
     "data": {
      "text/html": [
       "<div>\n",
       "<style scoped>\n",
       "    .dataframe tbody tr th:only-of-type {\n",
       "        vertical-align: middle;\n",
       "    }\n",
       "\n",
       "    .dataframe tbody tr th {\n",
       "        vertical-align: top;\n",
       "    }\n",
       "\n",
       "    .dataframe thead tr th {\n",
       "        text-align: left;\n",
       "    }\n",
       "\n",
       "    .dataframe thead tr:last-of-type th {\n",
       "        text-align: right;\n",
       "    }\n",
       "</style>\n",
       "<table border=\"1\" class=\"dataframe\">\n",
       "  <thead>\n",
       "    <tr>\n",
       "      <th></th>\n",
       "      <th colspan=\"3\" halign=\"left\">Total Household Income</th>\n",
       "    </tr>\n",
       "    <tr>\n",
       "      <th></th>\n",
       "      <th>max</th>\n",
       "      <th>mean</th>\n",
       "      <th>min</th>\n",
       "    </tr>\n",
       "    <tr>\n",
       "      <th>Region</th>\n",
       "      <th></th>\n",
       "      <th></th>\n",
       "      <th></th>\n",
       "    </tr>\n",
       "  </thead>\n",
       "  <tbody>\n",
       "    <tr>\n",
       "      <th>Central</th>\n",
       "      <td>1486131150</td>\n",
       "      <td>1.163844e+09</td>\n",
       "      <td>562147920</td>\n",
       "    </tr>\n",
       "    <tr>\n",
       "      <th>Northern</th>\n",
       "      <td>41283751832</td>\n",
       "      <td>1.371776e+10</td>\n",
       "      <td>583600309</td>\n",
       "    </tr>\n",
       "    <tr>\n",
       "      <th>Southwestern</th>\n",
       "      <td>849567224</td>\n",
       "      <td>8.495672e+08</td>\n",
       "      <td>849567224</td>\n",
       "    </tr>\n",
       "  </tbody>\n",
       "</table>\n",
       "</div>"
      ],
      "text/plain": [
       "             Total Household Income                         \n",
       "                                max          mean        min\n",
       "Region                                                      \n",
       "Central                  1486131150  1.163844e+09  562147920\n",
       "Northern                41283751832  1.371776e+10  583600309\n",
       "Southwestern              849567224  8.495672e+08  849567224"
      ]
     },
     "execution_count": 59,
     "metadata": {},
     "output_type": "execute_result"
    }
   ],
   "source": [
    "table = counties3.pivot_table(values=['Total Household Income'], index=['Region'],\n",
    "                              aggfunc={'Total Household Income': [min, max, np.mean]})\n",
    "\n",
    "table"
   ]
  },
  {
   "cell_type": "code",
   "execution_count": 61,
   "id": "6ac5f677-ecc6-49ce-b2c6-9f68ad04bd20",
   "metadata": {},
   "outputs": [
    {
     "data": {
      "text/html": [
       "<div>\n",
       "<style scoped>\n",
       "    .dataframe tbody tr th:only-of-type {\n",
       "        vertical-align: middle;\n",
       "    }\n",
       "\n",
       "    .dataframe tbody tr th {\n",
       "        vertical-align: top;\n",
       "    }\n",
       "\n",
       "    .dataframe thead th {\n",
       "        text-align: right;\n",
       "    }\n",
       "</style>\n",
       "<table border=\"1\" class=\"dataframe\">\n",
       "  <thead>\n",
       "    <tr style=\"text-align: right;\">\n",
       "      <th></th>\n",
       "      <th>fixed acidity</th>\n",
       "      <th>volatile acidity</th>\n",
       "      <th>citric acid</th>\n",
       "      <th>residual sugar</th>\n",
       "      <th>chlorides</th>\n",
       "      <th>free sulfur dioxide</th>\n",
       "      <th>total sulfur dioxide</th>\n",
       "      <th>density</th>\n",
       "      <th>pH</th>\n",
       "      <th>sulphates</th>\n",
       "      <th>alcohol</th>\n",
       "      <th>quality</th>\n",
       "    </tr>\n",
       "  </thead>\n",
       "  <tbody>\n",
       "    <tr>\n",
       "      <th>0</th>\n",
       "      <td>11.6</td>\n",
       "      <td>0.580</td>\n",
       "      <td>0.66</td>\n",
       "      <td>2.20</td>\n",
       "      <td>0.074</td>\n",
       "      <td>10.0</td>\n",
       "      <td>47.0</td>\n",
       "      <td>1.00080</td>\n",
       "      <td>3.25</td>\n",
       "      <td>0.57</td>\n",
       "      <td>9.0</td>\n",
       "      <td>3</td>\n",
       "    </tr>\n",
       "    <tr>\n",
       "      <th>1</th>\n",
       "      <td>10.4</td>\n",
       "      <td>0.610</td>\n",
       "      <td>0.49</td>\n",
       "      <td>2.10</td>\n",
       "      <td>0.200</td>\n",
       "      <td>5.0</td>\n",
       "      <td>16.0</td>\n",
       "      <td>0.99940</td>\n",
       "      <td>3.16</td>\n",
       "      <td>0.63</td>\n",
       "      <td>8.4</td>\n",
       "      <td>3</td>\n",
       "    </tr>\n",
       "    <tr>\n",
       "      <th>2</th>\n",
       "      <td>7.4</td>\n",
       "      <td>1.185</td>\n",
       "      <td>0.00</td>\n",
       "      <td>4.25</td>\n",
       "      <td>0.097</td>\n",
       "      <td>5.0</td>\n",
       "      <td>14.0</td>\n",
       "      <td>0.99660</td>\n",
       "      <td>3.63</td>\n",
       "      <td>0.54</td>\n",
       "      <td>10.7</td>\n",
       "      <td>3</td>\n",
       "    </tr>\n",
       "    <tr>\n",
       "      <th>3</th>\n",
       "      <td>10.4</td>\n",
       "      <td>0.440</td>\n",
       "      <td>0.42</td>\n",
       "      <td>1.50</td>\n",
       "      <td>0.145</td>\n",
       "      <td>34.0</td>\n",
       "      <td>48.0</td>\n",
       "      <td>0.99832</td>\n",
       "      <td>3.38</td>\n",
       "      <td>0.86</td>\n",
       "      <td>9.9</td>\n",
       "      <td>3</td>\n",
       "    </tr>\n",
       "    <tr>\n",
       "      <th>4</th>\n",
       "      <td>8.3</td>\n",
       "      <td>1.020</td>\n",
       "      <td>0.02</td>\n",
       "      <td>3.40</td>\n",
       "      <td>0.084</td>\n",
       "      <td>6.0</td>\n",
       "      <td>11.0</td>\n",
       "      <td>0.99892</td>\n",
       "      <td>3.48</td>\n",
       "      <td>0.49</td>\n",
       "      <td>11.0</td>\n",
       "      <td>3</td>\n",
       "    </tr>\n",
       "  </tbody>\n",
       "</table>\n",
       "</div>"
      ],
      "text/plain": [
       "   fixed acidity  volatile acidity  citric acid  residual sugar  chlorides  \\\n",
       "0           11.6             0.580         0.66            2.20      0.074   \n",
       "1           10.4             0.610         0.49            2.10      0.200   \n",
       "2            7.4             1.185         0.00            4.25      0.097   \n",
       "3           10.4             0.440         0.42            1.50      0.145   \n",
       "4            8.3             1.020         0.02            3.40      0.084   \n",
       "\n",
       "   free sulfur dioxide  total sulfur dioxide  density    pH  sulphates  \\\n",
       "0                 10.0                  47.0  1.00080  3.25       0.57   \n",
       "1                  5.0                  16.0  0.99940  3.16       0.63   \n",
       "2                  5.0                  14.0  0.99660  3.63       0.54   \n",
       "3                 34.0                  48.0  0.99832  3.38       0.86   \n",
       "4                  6.0                  11.0  0.99892  3.48       0.49   \n",
       "\n",
       "   alcohol  quality  \n",
       "0      9.0        3  \n",
       "1      8.4        3  \n",
       "2     10.7        3  \n",
       "3      9.9        3  \n",
       "4     11.0        3  "
      ]
     },
     "execution_count": 61,
     "metadata": {},
     "output_type": "execute_result"
    }
   ],
   "source": [
    "wine_data = pd.read_csv(\"Portuguese_VinhoVerde_RedWine_Quality.csv\")\n",
    "\n",
    "wine_data.head()"
   ]
  },
  {
   "cell_type": "code",
   "execution_count": 62,
   "id": "4d19fd09-5d73-44a2-ba9e-ea15c37b67b9",
   "metadata": {},
   "outputs": [
    {
     "data": {
      "text/plain": [
       "fixed acidity           float64\n",
       "volatile acidity        float64\n",
       "citric acid             float64\n",
       "residual sugar          float64\n",
       "chlorides               float64\n",
       "free sulfur dioxide     float64\n",
       "total sulfur dioxide    float64\n",
       "density                 float64\n",
       "pH                      float64\n",
       "sulphates               float64\n",
       "alcohol                 float64\n",
       "quality                   int64\n",
       "dtype: object"
      ]
     },
     "execution_count": 62,
     "metadata": {},
     "output_type": "execute_result"
    }
   ],
   "source": [
    "wine_data.dtypes"
   ]
  },
  {
   "cell_type": "code",
   "execution_count": 63,
   "id": "e9731e37-76d6-4e78-9f78-a873e78c68d0",
   "metadata": {},
   "outputs": [
    {
     "data": {
      "text/html": [
       "<div>\n",
       "<style scoped>\n",
       "    .dataframe tbody tr th:only-of-type {\n",
       "        vertical-align: middle;\n",
       "    }\n",
       "\n",
       "    .dataframe tbody tr th {\n",
       "        vertical-align: top;\n",
       "    }\n",
       "\n",
       "    .dataframe thead th {\n",
       "        text-align: right;\n",
       "    }\n",
       "</style>\n",
       "<table border=\"1\" class=\"dataframe\">\n",
       "  <thead>\n",
       "    <tr style=\"text-align: right;\">\n",
       "      <th></th>\n",
       "      <th>fixed acidity</th>\n",
       "      <th>volatile acidity</th>\n",
       "      <th>citric acid</th>\n",
       "      <th>residual sugar</th>\n",
       "      <th>chlorides</th>\n",
       "      <th>free sulfur dioxide</th>\n",
       "      <th>total sulfur dioxide</th>\n",
       "      <th>density</th>\n",
       "      <th>pH</th>\n",
       "      <th>sulphates</th>\n",
       "      <th>alcohol</th>\n",
       "      <th>quality</th>\n",
       "    </tr>\n",
       "  </thead>\n",
       "  <tbody>\n",
       "    <tr>\n",
       "      <th>0</th>\n",
       "      <td>11.6</td>\n",
       "      <td>0.580</td>\n",
       "      <td>0.66</td>\n",
       "      <td>2.20</td>\n",
       "      <td>0.074</td>\n",
       "      <td>10.0</td>\n",
       "      <td>47.0</td>\n",
       "      <td>1.00080</td>\n",
       "      <td>3.25</td>\n",
       "      <td>0.57</td>\n",
       "      <td>9.0</td>\n",
       "      <td>3</td>\n",
       "    </tr>\n",
       "    <tr>\n",
       "      <th>1</th>\n",
       "      <td>10.4</td>\n",
       "      <td>0.610</td>\n",
       "      <td>0.49</td>\n",
       "      <td>2.10</td>\n",
       "      <td>0.200</td>\n",
       "      <td>5.0</td>\n",
       "      <td>16.0</td>\n",
       "      <td>0.99940</td>\n",
       "      <td>3.16</td>\n",
       "      <td>0.63</td>\n",
       "      <td>8.4</td>\n",
       "      <td>3</td>\n",
       "    </tr>\n",
       "    <tr>\n",
       "      <th>2</th>\n",
       "      <td>7.4</td>\n",
       "      <td>1.185</td>\n",
       "      <td>0.00</td>\n",
       "      <td>4.25</td>\n",
       "      <td>0.097</td>\n",
       "      <td>5.0</td>\n",
       "      <td>14.0</td>\n",
       "      <td>0.99660</td>\n",
       "      <td>3.63</td>\n",
       "      <td>0.54</td>\n",
       "      <td>10.7</td>\n",
       "      <td>3</td>\n",
       "    </tr>\n",
       "    <tr>\n",
       "      <th>3</th>\n",
       "      <td>10.4</td>\n",
       "      <td>0.440</td>\n",
       "      <td>0.42</td>\n",
       "      <td>1.50</td>\n",
       "      <td>0.145</td>\n",
       "      <td>34.0</td>\n",
       "      <td>48.0</td>\n",
       "      <td>0.99832</td>\n",
       "      <td>3.38</td>\n",
       "      <td>0.86</td>\n",
       "      <td>9.9</td>\n",
       "      <td>3</td>\n",
       "    </tr>\n",
       "    <tr>\n",
       "      <th>4</th>\n",
       "      <td>8.3</td>\n",
       "      <td>1.020</td>\n",
       "      <td>0.02</td>\n",
       "      <td>3.40</td>\n",
       "      <td>0.084</td>\n",
       "      <td>6.0</td>\n",
       "      <td>11.0</td>\n",
       "      <td>0.99892</td>\n",
       "      <td>3.48</td>\n",
       "      <td>0.49</td>\n",
       "      <td>11.0</td>\n",
       "      <td>3</td>\n",
       "    </tr>\n",
       "    <tr>\n",
       "      <th>...</th>\n",
       "      <td>...</td>\n",
       "      <td>...</td>\n",
       "      <td>...</td>\n",
       "      <td>...</td>\n",
       "      <td>...</td>\n",
       "      <td>...</td>\n",
       "      <td>...</td>\n",
       "      <td>...</td>\n",
       "      <td>...</td>\n",
       "      <td>...</td>\n",
       "      <td>...</td>\n",
       "      <td>...</td>\n",
       "    </tr>\n",
       "    <tr>\n",
       "      <th>1594</th>\n",
       "      <td>8.6</td>\n",
       "      <td>0.420</td>\n",
       "      <td>0.39</td>\n",
       "      <td>1.80</td>\n",
       "      <td>0.068</td>\n",
       "      <td>6.0</td>\n",
       "      <td>12.0</td>\n",
       "      <td>0.99516</td>\n",
       "      <td>3.35</td>\n",
       "      <td>0.69</td>\n",
       "      <td>11.7</td>\n",
       "      <td>8</td>\n",
       "    </tr>\n",
       "    <tr>\n",
       "      <th>1595</th>\n",
       "      <td>5.5</td>\n",
       "      <td>0.490</td>\n",
       "      <td>0.03</td>\n",
       "      <td>1.80</td>\n",
       "      <td>0.044</td>\n",
       "      <td>28.0</td>\n",
       "      <td>87.0</td>\n",
       "      <td>0.99080</td>\n",
       "      <td>3.50</td>\n",
       "      <td>0.82</td>\n",
       "      <td>14.0</td>\n",
       "      <td>8</td>\n",
       "    </tr>\n",
       "    <tr>\n",
       "      <th>1596</th>\n",
       "      <td>7.2</td>\n",
       "      <td>0.330</td>\n",
       "      <td>0.33</td>\n",
       "      <td>1.70</td>\n",
       "      <td>0.061</td>\n",
       "      <td>3.0</td>\n",
       "      <td>13.0</td>\n",
       "      <td>0.99600</td>\n",
       "      <td>3.23</td>\n",
       "      <td>1.10</td>\n",
       "      <td>10.0</td>\n",
       "      <td>8</td>\n",
       "    </tr>\n",
       "    <tr>\n",
       "      <th>1597</th>\n",
       "      <td>7.2</td>\n",
       "      <td>0.380</td>\n",
       "      <td>0.31</td>\n",
       "      <td>2.00</td>\n",
       "      <td>0.056</td>\n",
       "      <td>15.0</td>\n",
       "      <td>29.0</td>\n",
       "      <td>0.99472</td>\n",
       "      <td>3.23</td>\n",
       "      <td>0.76</td>\n",
       "      <td>11.3</td>\n",
       "      <td>8</td>\n",
       "    </tr>\n",
       "    <tr>\n",
       "      <th>1598</th>\n",
       "      <td>7.4</td>\n",
       "      <td>0.360</td>\n",
       "      <td>0.30</td>\n",
       "      <td>1.80</td>\n",
       "      <td>0.074</td>\n",
       "      <td>17.0</td>\n",
       "      <td>24.0</td>\n",
       "      <td>0.99419</td>\n",
       "      <td>3.24</td>\n",
       "      <td>0.70</td>\n",
       "      <td>11.4</td>\n",
       "      <td>8</td>\n",
       "    </tr>\n",
       "  </tbody>\n",
       "</table>\n",
       "<p>1599 rows × 12 columns</p>\n",
       "</div>"
      ],
      "text/plain": [
       "      fixed acidity  volatile acidity  citric acid  residual sugar  chlorides  \\\n",
       "0              11.6             0.580         0.66            2.20      0.074   \n",
       "1              10.4             0.610         0.49            2.10      0.200   \n",
       "2               7.4             1.185         0.00            4.25      0.097   \n",
       "3              10.4             0.440         0.42            1.50      0.145   \n",
       "4               8.3             1.020         0.02            3.40      0.084   \n",
       "...             ...               ...          ...             ...        ...   \n",
       "1594            8.6             0.420         0.39            1.80      0.068   \n",
       "1595            5.5             0.490         0.03            1.80      0.044   \n",
       "1596            7.2             0.330         0.33            1.70      0.061   \n",
       "1597            7.2             0.380         0.31            2.00      0.056   \n",
       "1598            7.4             0.360         0.30            1.80      0.074   \n",
       "\n",
       "      free sulfur dioxide  total sulfur dioxide  density    pH  sulphates  \\\n",
       "0                    10.0                  47.0  1.00080  3.25       0.57   \n",
       "1                     5.0                  16.0  0.99940  3.16       0.63   \n",
       "2                     5.0                  14.0  0.99660  3.63       0.54   \n",
       "3                    34.0                  48.0  0.99832  3.38       0.86   \n",
       "4                     6.0                  11.0  0.99892  3.48       0.49   \n",
       "...                   ...                   ...      ...   ...        ...   \n",
       "1594                  6.0                  12.0  0.99516  3.35       0.69   \n",
       "1595                 28.0                  87.0  0.99080  3.50       0.82   \n",
       "1596                  3.0                  13.0  0.99600  3.23       1.10   \n",
       "1597                 15.0                  29.0  0.99472  3.23       0.76   \n",
       "1598                 17.0                  24.0  0.99419  3.24       0.70   \n",
       "\n",
       "      alcohol  quality  \n",
       "0         9.0        3  \n",
       "1         8.4        3  \n",
       "2        10.7        3  \n",
       "3         9.9        3  \n",
       "4        11.0        3  \n",
       "...       ...      ...  \n",
       "1594     11.7        8  \n",
       "1595     14.0        8  \n",
       "1596     10.0        8  \n",
       "1597     11.3        8  \n",
       "1598     11.4        8  \n",
       "\n",
       "[1599 rows x 12 columns]"
      ]
     },
     "execution_count": 63,
     "metadata": {},
     "output_type": "execute_result"
    }
   ],
   "source": [
    "wine_dtypes = {\n",
    "    \"fixed acidity\": np.float32,\n",
    "    \"volatile acidity\": np.float32,\n",
    "    \"citric acid\": np.float32,\n",
    "    \"residual sugar\": np.float32,\n",
    "    \"chlorides\": np.float32,\n",
    "    \"free sulfur dioxide\": np.float32,\n",
    "    \"total sulfur dioxide\": np.float32,\n",
    "    \"density\": np.float32,\n",
    "    \"pH\": np.float32,\n",
    "    \"sulphates\": np.float32,\n",
    "    \"alcohol\": np.float32,\n",
    "    \"quality\": np.int8,\n",
    "}\n",
    "\n",
    "\n",
    "wine_data = pd.read_csv(\"Portuguese_VinhoVerde_RedWine_Quality.csv\", dtype=wine_dtypes)\n",
    "\n",
    "wine_data"
   ]
  },
  {
   "cell_type": "code",
   "execution_count": 64,
   "id": "558be070-be1c-4873-aaa9-cbe54c00c1c1",
   "metadata": {},
   "outputs": [
    {
     "data": {
      "text/plain": [
       "fixed acidity           float32\n",
       "volatile acidity        float32\n",
       "citric acid             float32\n",
       "residual sugar          float32\n",
       "chlorides               float32\n",
       "free sulfur dioxide     float32\n",
       "total sulfur dioxide    float32\n",
       "density                 float32\n",
       "pH                      float32\n",
       "sulphates               float32\n",
       "alcohol                 float32\n",
       "quality                    int8\n",
       "dtype: object"
      ]
     },
     "execution_count": 64,
     "metadata": {},
     "output_type": "execute_result"
    }
   ],
   "source": [
    "wine_data.dtypes"
   ]
  },
  {
   "cell_type": "code",
   "execution_count": 65,
   "id": "11904d5c-5c62-4b93-a888-983988afbcdb",
   "metadata": {},
   "outputs": [
    {
     "data": {
      "text/plain": [
       "RangeIndex(start=0, stop=1599, step=1)"
      ]
     },
     "execution_count": 65,
     "metadata": {},
     "output_type": "execute_result"
    }
   ],
   "source": [
    "wine_data.index"
   ]
  },
  {
   "cell_type": "code",
   "execution_count": 67,
   "id": "71b5659f-94e5-4bbb-9475-7ae95309f9fb",
   "metadata": {},
   "outputs": [
    {
     "data": {
      "text/plain": [
       "Index(['fixed acidity', 'volatile acidity', 'citric acid', 'residual sugar',\n",
       "       'chlorides', 'free sulfur dioxide', 'total sulfur dioxide', 'density',\n",
       "       'pH', 'sulphates', 'alcohol', 'quality'],\n",
       "      dtype='object')"
      ]
     },
     "execution_count": 67,
     "metadata": {},
     "output_type": "execute_result"
    }
   ],
   "source": [
    "wine_data.columns"
   ]
  },
  {
   "cell_type": "code",
   "execution_count": 68,
   "id": "560db4c9-e639-48b4-a170-7846f4f9ba4f",
   "metadata": {},
   "outputs": [
    {
     "data": {
      "text/html": [
       "<div>\n",
       "<style scoped>\n",
       "    .dataframe tbody tr th:only-of-type {\n",
       "        vertical-align: middle;\n",
       "    }\n",
       "\n",
       "    .dataframe tbody tr th {\n",
       "        vertical-align: top;\n",
       "    }\n",
       "\n",
       "    .dataframe thead th {\n",
       "        text-align: right;\n",
       "    }\n",
       "</style>\n",
       "<table border=\"1\" class=\"dataframe\">\n",
       "  <thead>\n",
       "    <tr style=\"text-align: right;\">\n",
       "      <th></th>\n",
       "      <th>A</th>\n",
       "      <th>B</th>\n",
       "    </tr>\n",
       "  </thead>\n",
       "  <tbody>\n",
       "    <tr>\n",
       "      <th>0</th>\n",
       "      <td>0</td>\n",
       "      <td>4</td>\n",
       "    </tr>\n",
       "    <tr>\n",
       "      <th>1</th>\n",
       "      <td>0</td>\n",
       "      <td>4</td>\n",
       "    </tr>\n",
       "  </tbody>\n",
       "</table>\n",
       "</div>"
      ],
      "text/plain": [
       "   A  B\n",
       "0  0  4\n",
       "1  0  4"
      ]
     },
     "metadata": {},
     "output_type": "display_data"
    },
    {
     "data": {
      "text/html": [
       "<div>\n",
       "<style scoped>\n",
       "    .dataframe tbody tr th:only-of-type {\n",
       "        vertical-align: middle;\n",
       "    }\n",
       "\n",
       "    .dataframe tbody tr th {\n",
       "        vertical-align: top;\n",
       "    }\n",
       "\n",
       "    .dataframe thead th {\n",
       "        text-align: right;\n",
       "    }\n",
       "</style>\n",
       "<table border=\"1\" class=\"dataframe\">\n",
       "  <thead>\n",
       "    <tr style=\"text-align: right;\">\n",
       "      <th></th>\n",
       "      <th>C</th>\n",
       "      <th>D</th>\n",
       "    </tr>\n",
       "  </thead>\n",
       "  <tbody>\n",
       "    <tr>\n",
       "      <th>0</th>\n",
       "      <td>1</td>\n",
       "      <td>3</td>\n",
       "    </tr>\n",
       "    <tr>\n",
       "      <th>1</th>\n",
       "      <td>2</td>\n",
       "      <td>3</td>\n",
       "    </tr>\n",
       "    <tr>\n",
       "      <th>2</th>\n",
       "      <td>4</td>\n",
       "      <td>8</td>\n",
       "    </tr>\n",
       "  </tbody>\n",
       "</table>\n",
       "</div>"
      ],
      "text/plain": [
       "   C  D\n",
       "0  1  3\n",
       "1  2  3\n",
       "2  4  8"
      ]
     },
     "metadata": {},
     "output_type": "display_data"
    }
   ],
   "source": [
    "df1 = pd.DataFrame({'A': [0, 0], 'B': [4, 4]})\n",
    "\n",
    "df2 = pd.DataFrame({'C': [1, 2, 4], 'D': [3, 3, 8]})\n",
    "\n",
    "display(df1)\n",
    "display(df2)"
   ]
  },
  {
   "cell_type": "code",
   "execution_count": 72,
   "id": "8065e7bc-9385-42dc-a7be-27aa1f91182a",
   "metadata": {},
   "outputs": [
    {
     "data": {
      "text/html": [
       "<div>\n",
       "<style scoped>\n",
       "    .dataframe tbody tr th:only-of-type {\n",
       "        vertical-align: middle;\n",
       "    }\n",
       "\n",
       "    .dataframe tbody tr th {\n",
       "        vertical-align: top;\n",
       "    }\n",
       "\n",
       "    .dataframe thead th {\n",
       "        text-align: right;\n",
       "    }\n",
       "</style>\n",
       "<table border=\"1\" class=\"dataframe\">\n",
       "  <thead>\n",
       "    <tr style=\"text-align: right;\">\n",
       "      <th></th>\n",
       "      <th>A</th>\n",
       "      <th>B</th>\n",
       "      <th>C</th>\n",
       "      <th>D</th>\n",
       "    </tr>\n",
       "  </thead>\n",
       "  <tbody>\n",
       "    <tr>\n",
       "      <th>0</th>\n",
       "      <td>0.0</td>\n",
       "      <td>4.0</td>\n",
       "      <td>1</td>\n",
       "      <td>3</td>\n",
       "    </tr>\n",
       "    <tr>\n",
       "      <th>1</th>\n",
       "      <td>0.0</td>\n",
       "      <td>4.0</td>\n",
       "      <td>2</td>\n",
       "      <td>3</td>\n",
       "    </tr>\n",
       "    <tr>\n",
       "      <th>2</th>\n",
       "      <td>NaN</td>\n",
       "      <td>NaN</td>\n",
       "      <td>4</td>\n",
       "      <td>8</td>\n",
       "    </tr>\n",
       "  </tbody>\n",
       "</table>\n",
       "</div>"
      ],
      "text/plain": [
       "     A    B  C  D\n",
       "0  0.0  4.0  1  3\n",
       "1  0.0  4.0  2  3\n",
       "2  NaN  NaN  4  8"
      ]
     },
     "execution_count": 72,
     "metadata": {},
     "output_type": "execute_result"
    }
   ],
   "source": [
    "# df3 = df1.join(df2, how=\"right\") # select the index of the second data frame\n",
    "# df3 = df1.join(df2, how=\"left\") # select the index of the first data frame\n",
    "# df3 = df1.join(df2, how=\"inner\") # select the indexes the data frames share\n",
    "df3 = df1.join(df2, how=\"outer\") # select all of the indexes for both data frames\n",
    "\n",
    "df3"
   ]
  },
  {
   "cell_type": "code",
   "execution_count": 74,
   "id": "85f33532-1708-4e05-91be-4bbf42400d83",
   "metadata": {},
   "outputs": [
    {
     "data": {
      "text/html": [
       "<div>\n",
       "<style scoped>\n",
       "    .dataframe tbody tr th:only-of-type {\n",
       "        vertical-align: middle;\n",
       "    }\n",
       "\n",
       "    .dataframe tbody tr th {\n",
       "        vertical-align: top;\n",
       "    }\n",
       "\n",
       "    .dataframe thead th {\n",
       "        text-align: right;\n",
       "    }\n",
       "</style>\n",
       "<table border=\"1\" class=\"dataframe\">\n",
       "  <thead>\n",
       "    <tr style=\"text-align: right;\">\n",
       "      <th></th>\n",
       "      <th>A</th>\n",
       "      <th>B</th>\n",
       "    </tr>\n",
       "  </thead>\n",
       "  <tbody>\n",
       "    <tr>\n",
       "      <th>0</th>\n",
       "      <td>A0</td>\n",
       "      <td>B4</td>\n",
       "    </tr>\n",
       "    <tr>\n",
       "      <th>1</th>\n",
       "      <td>A0</td>\n",
       "      <td>B4</td>\n",
       "    </tr>\n",
       "  </tbody>\n",
       "</table>\n",
       "</div>"
      ],
      "text/plain": [
       "    A   B\n",
       "0  A0  B4\n",
       "1  A0  B4"
      ]
     },
     "metadata": {},
     "output_type": "display_data"
    },
    {
     "data": {
      "text/html": [
       "<div>\n",
       "<style scoped>\n",
       "    .dataframe tbody tr th:only-of-type {\n",
       "        vertical-align: middle;\n",
       "    }\n",
       "\n",
       "    .dataframe tbody tr th {\n",
       "        vertical-align: top;\n",
       "    }\n",
       "\n",
       "    .dataframe thead th {\n",
       "        text-align: right;\n",
       "    }\n",
       "</style>\n",
       "<table border=\"1\" class=\"dataframe\">\n",
       "  <thead>\n",
       "    <tr style=\"text-align: right;\">\n",
       "      <th></th>\n",
       "      <th>C</th>\n",
       "      <th>D</th>\n",
       "    </tr>\n",
       "  </thead>\n",
       "  <tbody>\n",
       "    <tr>\n",
       "      <th>0</th>\n",
       "      <td>C1</td>\n",
       "      <td>D3</td>\n",
       "    </tr>\n",
       "    <tr>\n",
       "      <th>1</th>\n",
       "      <td>C2</td>\n",
       "      <td>D3</td>\n",
       "    </tr>\n",
       "    <tr>\n",
       "      <th>2</th>\n",
       "      <td>C4</td>\n",
       "      <td>D8</td>\n",
       "    </tr>\n",
       "  </tbody>\n",
       "</table>\n",
       "</div>"
      ],
      "text/plain": [
       "    C   D\n",
       "0  C1  D3\n",
       "1  C2  D3\n",
       "2  C4  D8"
      ]
     },
     "metadata": {},
     "output_type": "display_data"
    }
   ],
   "source": [
    "df1 = pd.DataFrame({'A': ['A0', 'A0'], 'B': ['B4', 'B4']})\n",
    "\n",
    "df2 = pd.DataFrame({'C': ['C1', 'C2', 'C4'], 'D': ['D3', 'D3', 'D8']})\n",
    "\n",
    "display(df1)\n",
    "display(df2)"
   ]
  },
  {
   "cell_type": "code",
   "execution_count": 75,
   "id": "cb8d40cd-f990-41e3-a87e-dfa759990c1b",
   "metadata": {},
   "outputs": [
    {
     "data": {
      "text/html": [
       "<div>\n",
       "<style scoped>\n",
       "    .dataframe tbody tr th:only-of-type {\n",
       "        vertical-align: middle;\n",
       "    }\n",
       "\n",
       "    .dataframe tbody tr th {\n",
       "        vertical-align: top;\n",
       "    }\n",
       "\n",
       "    .dataframe thead th {\n",
       "        text-align: right;\n",
       "    }\n",
       "</style>\n",
       "<table border=\"1\" class=\"dataframe\">\n",
       "  <thead>\n",
       "    <tr style=\"text-align: right;\">\n",
       "      <th></th>\n",
       "      <th>A</th>\n",
       "      <th>B</th>\n",
       "      <th>C</th>\n",
       "      <th>D</th>\n",
       "    </tr>\n",
       "  </thead>\n",
       "  <tbody>\n",
       "    <tr>\n",
       "      <th>0</th>\n",
       "      <td>A0</td>\n",
       "      <td>B4</td>\n",
       "      <td>C1</td>\n",
       "      <td>D3</td>\n",
       "    </tr>\n",
       "    <tr>\n",
       "      <th>1</th>\n",
       "      <td>A0</td>\n",
       "      <td>B4</td>\n",
       "      <td>C2</td>\n",
       "      <td>D3</td>\n",
       "    </tr>\n",
       "    <tr>\n",
       "      <th>2</th>\n",
       "      <td>NaN</td>\n",
       "      <td>NaN</td>\n",
       "      <td>C4</td>\n",
       "      <td>D8</td>\n",
       "    </tr>\n",
       "  </tbody>\n",
       "</table>\n",
       "</div>"
      ],
      "text/plain": [
       "     A    B   C   D\n",
       "0   A0   B4  C1  D3\n",
       "1   A0   B4  C2  D3\n",
       "2  NaN  NaN  C4  D8"
      ]
     },
     "metadata": {},
     "output_type": "display_data"
    }
   ],
   "source": [
    "df3 = df1.join(df2, how=\"right\")\n",
    "\n",
    "display(df3)"
   ]
  },
  {
   "cell_type": "code",
   "execution_count": 76,
   "id": "3d206240-ecc9-48f6-aae7-cc3734de360e",
   "metadata": {},
   "outputs": [
    {
     "data": {
      "text/plain": [
       "A    object\n",
       "B    object\n",
       "C    object\n",
       "D    object\n",
       "dtype: object"
      ]
     },
     "execution_count": 76,
     "metadata": {},
     "output_type": "execute_result"
    }
   ],
   "source": [
    "df3.dtypes"
   ]
  },
  {
   "cell_type": "code",
   "execution_count": 77,
   "id": "45634332-16e7-4088-ad31-d67c6e4581be",
   "metadata": {},
   "outputs": [
    {
     "data": {
      "text/html": [
       "<div>\n",
       "<style scoped>\n",
       "    .dataframe tbody tr th:only-of-type {\n",
       "        vertical-align: middle;\n",
       "    }\n",
       "\n",
       "    .dataframe tbody tr th {\n",
       "        vertical-align: top;\n",
       "    }\n",
       "\n",
       "    .dataframe thead th {\n",
       "        text-align: right;\n",
       "    }\n",
       "</style>\n",
       "<table border=\"1\" class=\"dataframe\">\n",
       "  <thead>\n",
       "    <tr style=\"text-align: right;\">\n",
       "      <th></th>\n",
       "      <th>A</th>\n",
       "      <th>B</th>\n",
       "    </tr>\n",
       "  </thead>\n",
       "  <tbody>\n",
       "    <tr>\n",
       "      <th>0</th>\n",
       "      <td>0</td>\n",
       "      <td>4</td>\n",
       "    </tr>\n",
       "    <tr>\n",
       "      <th>1</th>\n",
       "      <td>0</td>\n",
       "      <td>4</td>\n",
       "    </tr>\n",
       "  </tbody>\n",
       "</table>\n",
       "</div>"
      ],
      "text/plain": [
       "   A  B\n",
       "0  0  4\n",
       "1  0  4"
      ]
     },
     "metadata": {},
     "output_type": "display_data"
    },
    {
     "data": {
      "text/html": [
       "<div>\n",
       "<style scoped>\n",
       "    .dataframe tbody tr th:only-of-type {\n",
       "        vertical-align: middle;\n",
       "    }\n",
       "\n",
       "    .dataframe tbody tr th {\n",
       "        vertical-align: top;\n",
       "    }\n",
       "\n",
       "    .dataframe thead th {\n",
       "        text-align: right;\n",
       "    }\n",
       "</style>\n",
       "<table border=\"1\" class=\"dataframe\">\n",
       "  <thead>\n",
       "    <tr style=\"text-align: right;\">\n",
       "      <th></th>\n",
       "      <th>A</th>\n",
       "      <th>B</th>\n",
       "    </tr>\n",
       "  </thead>\n",
       "  <tbody>\n",
       "    <tr>\n",
       "      <th>0</th>\n",
       "      <td>1</td>\n",
       "      <td>3</td>\n",
       "    </tr>\n",
       "    <tr>\n",
       "      <th>1</th>\n",
       "      <td>1</td>\n",
       "      <td>3</td>\n",
       "    </tr>\n",
       "  </tbody>\n",
       "</table>\n",
       "</div>"
      ],
      "text/plain": [
       "   A  B\n",
       "0  1  3\n",
       "1  1  3"
      ]
     },
     "metadata": {},
     "output_type": "display_data"
    }
   ],
   "source": [
    "df1 = pd.DataFrame({'A': [0, 0], 'B': [4, 4]})\n",
    "df2 = pd.DataFrame({'A': [1, 1], 'B': [3, 3]})\n",
    "\n",
    "display(df1)\n",
    "display(df2)"
   ]
  },
  {
   "cell_type": "code",
   "execution_count": 79,
   "id": "9b22a9cc-caa5-41bc-8f1c-69a7cdc9af59",
   "metadata": {},
   "outputs": [
    {
     "data": {
      "text/html": [
       "<div>\n",
       "<style scoped>\n",
       "    .dataframe tbody tr th:only-of-type {\n",
       "        vertical-align: middle;\n",
       "    }\n",
       "\n",
       "    .dataframe tbody tr th {\n",
       "        vertical-align: top;\n",
       "    }\n",
       "\n",
       "    .dataframe thead th {\n",
       "        text-align: right;\n",
       "    }\n",
       "</style>\n",
       "<table border=\"1\" class=\"dataframe\">\n",
       "  <thead>\n",
       "    <tr style=\"text-align: right;\">\n",
       "      <th></th>\n",
       "      <th>A</th>\n",
       "      <th>B</th>\n",
       "    </tr>\n",
       "  </thead>\n",
       "  <tbody>\n",
       "    <tr>\n",
       "      <th>0</th>\n",
       "      <td>0</td>\n",
       "      <td>4</td>\n",
       "    </tr>\n",
       "    <tr>\n",
       "      <th>1</th>\n",
       "      <td>0</td>\n",
       "      <td>4</td>\n",
       "    </tr>\n",
       "    <tr>\n",
       "      <th>2</th>\n",
       "      <td>1</td>\n",
       "      <td>3</td>\n",
       "    </tr>\n",
       "    <tr>\n",
       "      <th>3</th>\n",
       "      <td>1</td>\n",
       "      <td>3</td>\n",
       "    </tr>\n",
       "  </tbody>\n",
       "</table>\n",
       "</div>"
      ],
      "text/plain": [
       "   A  B\n",
       "0  0  4\n",
       "1  0  4\n",
       "2  1  3\n",
       "3  1  3"
      ]
     },
     "execution_count": 79,
     "metadata": {},
     "output_type": "execute_result"
    }
   ],
   "source": [
    "df3 = pd.concat([ df1, df2 ])\n",
    "df3.reset_index(drop=True, inplace=True)\n",
    "\n",
    "df3"
   ]
  },
  {
   "cell_type": "code",
   "execution_count": 80,
   "id": "4c833d74-18f7-4478-8bba-dbd83e8d8803",
   "metadata": {},
   "outputs": [
    {
     "data": {
      "text/html": [
       "<div>\n",
       "<style scoped>\n",
       "    .dataframe tbody tr th:only-of-type {\n",
       "        vertical-align: middle;\n",
       "    }\n",
       "\n",
       "    .dataframe tbody tr th {\n",
       "        vertical-align: top;\n",
       "    }\n",
       "\n",
       "    .dataframe thead th {\n",
       "        text-align: right;\n",
       "    }\n",
       "</style>\n",
       "<table border=\"1\" class=\"dataframe\">\n",
       "  <thead>\n",
       "    <tr style=\"text-align: right;\">\n",
       "      <th></th>\n",
       "      <th>A</th>\n",
       "      <th>B</th>\n",
       "    </tr>\n",
       "  </thead>\n",
       "  <tbody>\n",
       "    <tr>\n",
       "      <th>0</th>\n",
       "      <td>1</td>\n",
       "      <td>2</td>\n",
       "    </tr>\n",
       "    <tr>\n",
       "      <th>1</th>\n",
       "      <td>4</td>\n",
       "      <td>5</td>\n",
       "    </tr>\n",
       "  </tbody>\n",
       "</table>\n",
       "</div>"
      ],
      "text/plain": [
       "   A  B\n",
       "0  1  2\n",
       "1  4  5"
      ]
     },
     "execution_count": 80,
     "metadata": {},
     "output_type": "execute_result"
    }
   ],
   "source": [
    "pd.DataFrame([ [1, 2], [4, 5] ], columns=[\"A\", \"B\"])"
   ]
  },
  {
   "cell_type": "code",
   "execution_count": null,
   "id": "5cdb320b-91d6-49dc-bc43-c429b9f8378f",
   "metadata": {},
   "outputs": [],
   "source": []
  }
 ],
 "metadata": {
  "kernelspec": {
   "display_name": "jupyter",
   "language": "python",
   "name": "jupyter"
  },
  "language_info": {
   "codemirror_mode": {
    "name": "ipython",
    "version": 3
   },
   "file_extension": ".py",
   "mimetype": "text/x-python",
   "name": "python",
   "nbconvert_exporter": "python",
   "pygments_lexer": "ipython3",
   "version": "3.9.12"
  }
 },
 "nbformat": 4,
 "nbformat_minor": 5
}
