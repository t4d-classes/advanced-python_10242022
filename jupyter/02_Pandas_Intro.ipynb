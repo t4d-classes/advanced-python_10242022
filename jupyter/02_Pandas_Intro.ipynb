{
 "cells": [
  {
   "cell_type": "code",
   "execution_count": 1,
   "id": "84e9dd4f-3785-44a7-b82a-0f9048cb065a",
   "metadata": {},
   "outputs": [],
   "source": [
    "import pandas as pd\n",
    "import numpy as np"
   ]
  },
  {
   "cell_type": "code",
   "execution_count": 2,
   "id": "9419bbf6-92e6-4bd8-80d5-829e538e4558",
   "metadata": {},
   "outputs": [
    {
     "data": {
      "text/plain": [
       "{'Alexandria': 80847,\n",
       " 'Amherst': 44757,\n",
       " 'Arlington': 94880,\n",
       " 'Augusta': 50612,\n",
       " 'Bedford': 54110,\n",
       " 'Botetourt': 64724,\n",
       " 'Fairfax': 105416,\n",
       " 'Falls Church': 114409,\n",
       " 'Prince William': 91098}"
      ]
     },
     "execution_count": 2,
     "metadata": {},
     "output_type": "execute_result"
    }
   ],
   "source": [
    "median_income_dict = {\n",
    "    \"Alexandria\": 80847,\n",
    "    \"Amherst\": 44757,\n",
    "    \"Arlington\": 94880,\n",
    "    \"Augusta\": 50612,\n",
    "    \"Bedford\": 54110,\n",
    "    \"Botetourt\": 64724,\n",
    "    \"Fairfax\": 105416,\n",
    "    \"Falls Church\": 114409,\n",
    "    \"Prince William\": 91098,\n",
    "}\n",
    "\n",
    "median_income_dict"
   ]
  },
  {
   "cell_type": "code",
   "execution_count": 3,
   "id": "a4c124ca-9b7f-46a3-b6c2-d6a8112d2694",
   "metadata": {},
   "outputs": [
    {
     "data": {
      "text/plain": [
       "44757"
      ]
     },
     "execution_count": 3,
     "metadata": {},
     "output_type": "execute_result"
    }
   ],
   "source": [
    "median_income_dict['Amherst']"
   ]
  },
  {
   "cell_type": "code",
   "execution_count": 4,
   "id": "7717c200-4de7-4bad-8d2f-c1a6b0ffaaad",
   "metadata": {},
   "outputs": [
    {
     "data": {
      "text/plain": [
       "Alexandria         80847\n",
       "Amherst            44757\n",
       "Arlington          94880\n",
       "Augusta            50612\n",
       "Bedford            54110\n",
       "Botetourt          64724\n",
       "Fairfax           105416\n",
       "Falls Church      114409\n",
       "Prince William     91098\n",
       "dtype: int32"
      ]
     },
     "execution_count": 4,
     "metadata": {},
     "output_type": "execute_result"
    }
   ],
   "source": [
    "median_income_series = pd.Series(median_income_dict, dtype=np.int32)\n",
    "\n",
    "median_income_series"
   ]
  },
  {
   "cell_type": "code",
   "execution_count": 5,
   "id": "c6c4730a-4b5d-4e73-ab87-811ac237760b",
   "metadata": {},
   "outputs": [
    {
     "data": {
      "text/plain": [
       "Alexandria    80847\n",
       "Amherst       44757\n",
       "Arlington     94880\n",
       "Augusta       50612\n",
       "Bedford       54110\n",
       "dtype: int32"
      ]
     },
     "execution_count": 5,
     "metadata": {},
     "output_type": "execute_result"
    }
   ],
   "source": [
    "median_income_series.head()"
   ]
  },
  {
   "cell_type": "code",
   "execution_count": 6,
   "id": "e32d1244-9495-4bc4-9bf9-5ebe5a64ade5",
   "metadata": {},
   "outputs": [
    {
     "data": {
      "text/plain": [
       "Alexandria    80847\n",
       "Amherst       44757\n",
       "Arlington     94880\n",
       "dtype: int32"
      ]
     },
     "execution_count": 6,
     "metadata": {},
     "output_type": "execute_result"
    }
   ],
   "source": [
    "median_income_series.head(3)"
   ]
  },
  {
   "cell_type": "code",
   "execution_count": 7,
   "id": "6a5da05a-bd69-4f5f-bbfb-171930050884",
   "metadata": {},
   "outputs": [
    {
     "data": {
      "text/plain": [
       "Bedford            54110\n",
       "Botetourt          64724\n",
       "Fairfax           105416\n",
       "Falls Church      114409\n",
       "Prince William     91098\n",
       "dtype: int32"
      ]
     },
     "execution_count": 7,
     "metadata": {},
     "output_type": "execute_result"
    }
   ],
   "source": [
    "median_income_series.tail()"
   ]
  },
  {
   "cell_type": "code",
   "execution_count": 8,
   "id": "392235f1-5928-4f1f-ab1c-3baf74b80881",
   "metadata": {},
   "outputs": [
    {
     "data": {
      "text/plain": [
       "Fairfax           105416\n",
       "Falls Church      114409\n",
       "Prince William     91098\n",
       "dtype: int32"
      ]
     },
     "execution_count": 8,
     "metadata": {},
     "output_type": "execute_result"
    }
   ],
   "source": [
    "median_income_series.tail(3)"
   ]
  },
  {
   "cell_type": "code",
   "execution_count": 9,
   "id": "fe4e6918-e70c-4c5b-bba4-500b6a05497a",
   "metadata": {},
   "outputs": [
    {
     "data": {
      "text/plain": [
       "Index(['Alexandria', 'Amherst', 'Arlington', 'Augusta', 'Bedford', 'Botetourt',\n",
       "       'Fairfax', 'Falls Church', 'Prince William'],\n",
       "      dtype='object')"
      ]
     },
     "execution_count": 9,
     "metadata": {},
     "output_type": "execute_result"
    }
   ],
   "source": [
    "median_income_series.index"
   ]
  },
  {
   "cell_type": "code",
   "execution_count": 10,
   "id": "a848d7a1-d25a-4217-a285-5456a0d4bae5",
   "metadata": {},
   "outputs": [
    {
     "data": {
      "text/plain": [
       "array([ 80847,  44757,  94880,  50612,  54110,  64724, 105416, 114409,\n",
       "        91098])"
      ]
     },
     "execution_count": 10,
     "metadata": {},
     "output_type": "execute_result"
    }
   ],
   "source": [
    "median_income_series.values"
   ]
  },
  {
   "cell_type": "code",
   "execution_count": 11,
   "id": "560b6bfa-a6e3-4713-9969-5899e4092965",
   "metadata": {},
   "outputs": [
    {
     "data": {
      "text/plain": [
       "dtype('int32')"
      ]
     },
     "execution_count": 11,
     "metadata": {},
     "output_type": "execute_result"
    }
   ],
   "source": [
    "income_values = median_income_series.values\n",
    "income_values.dtype"
   ]
  },
  {
   "cell_type": "code",
   "execution_count": 15,
   "id": "d5caebcf-bfa1-48f0-9235-e78b3c134a94",
   "metadata": {},
   "outputs": [
    {
     "data": {
      "text/plain": [
       "numpy.int32"
      ]
     },
     "execution_count": 15,
     "metadata": {},
     "output_type": "execute_result"
    }
   ],
   "source": [
    "type(median_income_series[\"Amherst\"])"
   ]
  },
  {
   "cell_type": "code",
   "execution_count": 14,
   "id": "a3744104-864c-4f6f-82b7-52e644aa1365",
   "metadata": {},
   "outputs": [
    {
     "data": {
      "text/plain": [
       "pandas.core.series.Series"
      ]
     },
     "execution_count": 14,
     "metadata": {},
     "output_type": "execute_result"
    }
   ],
   "source": [
    "type(median_income_series[ [\"Amherst\"] ])"
   ]
  },
  {
   "cell_type": "code",
   "execution_count": 16,
   "id": "208820a0-f00b-4b50-9fed-9122b7e74b7d",
   "metadata": {},
   "outputs": [
    {
     "data": {
      "text/plain": [
       "44757"
      ]
     },
     "execution_count": 16,
     "metadata": {},
     "output_type": "execute_result"
    }
   ],
   "source": [
    "median_income_series[\"Amherst\"] # return back a single value from the series"
   ]
  },
  {
   "cell_type": "code",
   "execution_count": 17,
   "id": "0a6cb0c3-b96b-487e-be34-9fb0db581501",
   "metadata": {},
   "outputs": [
    {
     "data": {
      "text/plain": [
       "Amherst      44757\n",
       "Botetourt    64724\n",
       "dtype: int32"
      ]
     },
     "execution_count": 17,
     "metadata": {},
     "output_type": "execute_result"
    }
   ],
   "source": [
    "median_income_series[ [\"Amherst\", \"Botetourt\" ] ] # return back a series with the specified indexes"
   ]
  },
  {
   "cell_type": "code",
   "execution_count": 18,
   "id": "023d3ec2-f1a8-4a70-8f1e-6f09df126b35",
   "metadata": {},
   "outputs": [
    {
     "data": {
      "text/plain": [
       "Amherst      44757\n",
       "Arlington    94880\n",
       "Augusta      50612\n",
       "Bedford      54110\n",
       "dtype: int32"
      ]
     },
     "execution_count": 18,
     "metadata": {},
     "output_type": "execute_result"
    }
   ],
   "source": [
    "median_income_series[\"Amherst\":\"Bedford\"] # return back a series with the specified range of indexes"
   ]
  },
  {
   "cell_type": "code",
   "execution_count": 19,
   "id": "1b71319f-7949-46f5-87cb-b08ac0085f4a",
   "metadata": {},
   "outputs": [
    {
     "data": {
      "text/plain": [
       "Alexandria         80847\n",
       "Amherst            44757\n",
       "Arlington          94880\n",
       "Augusta            50612\n",
       "Bedford            54110\n",
       "Botetourt          64724\n",
       "Fairfax           105416\n",
       "Falls Church      114409\n",
       "Prince William     91098\n",
       "dtype: int32"
      ]
     },
     "execution_count": 19,
     "metadata": {},
     "output_type": "execute_result"
    }
   ],
   "source": [
    "median_income_series"
   ]
  },
  {
   "cell_type": "code",
   "execution_count": 20,
   "id": "a757fc48-6308-4c2d-bdc8-bdea515e6fe4",
   "metadata": {},
   "outputs": [
    {
     "data": {
      "text/plain": [
       "44757"
      ]
     },
     "execution_count": 20,
     "metadata": {},
     "output_type": "execute_result"
    }
   ],
   "source": [
    "median_income_series[1]"
   ]
  },
  {
   "cell_type": "code",
   "execution_count": 21,
   "id": "112535b7-73ca-4039-9e05-131f9109ed00",
   "metadata": {},
   "outputs": [
    {
     "data": {
      "text/plain": [
       "Amherst      44757\n",
       "Arlington    94880\n",
       "dtype: int32"
      ]
     },
     "execution_count": 21,
     "metadata": {},
     "output_type": "execute_result"
    }
   ],
   "source": [
    "median_income_series[1:3]"
   ]
  },
  {
   "cell_type": "code",
   "execution_count": 22,
   "id": "45d48807-c3b7-4b6f-ac77-92ce091d6757",
   "metadata": {},
   "outputs": [
    {
     "data": {
      "text/plain": [
       "Amherst    44757\n",
       "Bedford    54110\n",
       "dtype: int32"
      ]
     },
     "execution_count": 22,
     "metadata": {},
     "output_type": "execute_result"
    }
   ],
   "source": [
    "median_income_series[ [1, 4]]"
   ]
  },
  {
   "cell_type": "code",
   "execution_count": 23,
   "id": "e901535e-6275-48d8-a73e-9d70b8835572",
   "metadata": {},
   "outputs": [
    {
     "data": {
      "text/plain": [
       "44757"
      ]
     },
     "execution_count": 23,
     "metadata": {},
     "output_type": "execute_result"
    }
   ],
   "source": [
    "median_income_series.iloc[1]"
   ]
  },
  {
   "cell_type": "code",
   "execution_count": 24,
   "id": "6c649ec1-50fa-4c24-b1b1-b1d615bfe669",
   "metadata": {},
   "outputs": [
    {
     "data": {
      "text/plain": [
       "44757"
      ]
     },
     "execution_count": 24,
     "metadata": {},
     "output_type": "execute_result"
    }
   ],
   "source": [
    "median_income_series.loc['Amherst']"
   ]
  },
  {
   "cell_type": "code",
   "execution_count": 25,
   "id": "26578cdd-1b09-4cb0-91d3-aaa96f01cc4d",
   "metadata": {},
   "outputs": [
    {
     "data": {
      "text/plain": [
       "(9,)"
      ]
     },
     "execution_count": 25,
     "metadata": {},
     "output_type": "execute_result"
    }
   ],
   "source": [
    "median_income_series.shape"
   ]
  },
  {
   "cell_type": "code",
   "execution_count": 26,
   "id": "58e80ae7-767e-418f-bcad-21237757409a",
   "metadata": {},
   "outputs": [
    {
     "data": {
      "text/plain": [
       "Alexandria         68082\n",
       "Amherst            12560\n",
       "Arlington          98050\n",
       "Augusta            28516\n",
       "Bedford            27465\n",
       "Botetourt          13126\n",
       "Fairfax           391627\n",
       "Falls Church        5101\n",
       "Prince William    130785\n",
       "dtype: int64"
      ]
     },
     "execution_count": 26,
     "metadata": {},
     "output_type": "execute_result"
    }
   ],
   "source": [
    "households_dict = {\n",
    "    \"Alexandria\": 68082,\n",
    "    \"Amherst\": 12560,\n",
    "    \"Arlington\": 98050,\n",
    "    \"Augusta\": 28516,\n",
    "    \"Bedford\": 27465,\n",
    "    \"Botetourt\": 13126,\n",
    "    \"Fairfax\": 391627,\n",
    "    \"Falls Church\":\t5101,\n",
    "    \"Prince William\": 130785,\n",
    "}\n",
    "\n",
    "households_series = pd.Series(households_dict)\n",
    "\n",
    "households_series"
   ]
  },
  {
   "cell_type": "code",
   "execution_count": null,
   "id": "3d19eec7-d22d-47c6-ad7b-3ec74a9ec05d",
   "metadata": {},
   "outputs": [],
   "source": []
  }
 ],
 "metadata": {
  "kernelspec": {
   "display_name": "jupyter",
   "language": "python",
   "name": "jupyter"
  },
  "language_info": {
   "codemirror_mode": {
    "name": "ipython",
    "version": 3
   },
   "file_extension": ".py",
   "mimetype": "text/x-python",
   "name": "python",
   "nbconvert_exporter": "python",
   "pygments_lexer": "ipython3",
   "version": "3.9.12"
  }
 },
 "nbformat": 4,
 "nbformat_minor": 5
}
