{
 "cells": [
  {
   "cell_type": "code",
   "execution_count": 1,
   "id": "4af7a91c-b2d5-4600-8850-314bf7ca8ab8",
   "metadata": {},
   "outputs": [],
   "source": [
    "import sys\n",
    "import numpy as np\n",
    "\n",
    "item_count = 50000000"
   ]
  },
  {
   "cell_type": "code",
   "execution_count": 2,
   "id": "d58eea47-8c8c-405f-a88d-951edac64da3",
   "metadata": {},
   "outputs": [
    {
     "name": "stdout",
     "output_type": "stream",
     "text": [
      "100000000\n",
      "411.943896\n",
      "CPU times: total: 4.92 s\n",
      "Wall time: 4.95 s\n"
     ]
    }
   ],
   "source": [
    "%%time\n",
    "\n",
    "nums_list = [ 1 for _ in range(item_count) ]\n",
    "\n",
    "double_nums_list = [ x * 2 for x in nums_list ]\n",
    "\n",
    "double_nums_list_sum = sum(double_nums_list)\n",
    "\n",
    "print(double_nums_list_sum)\n",
    "print(sys.getsizeof(double_nums_list) / 1000000)"
   ]
  },
  {
   "cell_type": "code",
   "execution_count": 3,
   "id": "fa3f3b6d-c1c3-4939-921a-2afceaf7aeeb",
   "metadata": {},
   "outputs": [
    {
     "name": "stdout",
     "output_type": "stream",
     "text": [
      "100000000\n",
      "50.0\n",
      "CPU times: total: 78.1 ms\n",
      "Wall time: 94.7 ms\n"
     ]
    }
   ],
   "source": [
    "%%time\n",
    "\n",
    "nums_arr = np.ones(item_count, dtype=\"int8\")\n",
    "\n",
    "double_nums_arr = nums_arr * 2\n",
    "\n",
    "double_nums_arr_sum = np.sum(double_nums_arr)\n",
    "\n",
    "print(double_nums_arr_sum)\n",
    "print(double_nums_arr.nbytes / 1000000)"
   ]
  },
  {
   "cell_type": "code",
   "execution_count": 4,
   "id": "f5af9b9d-b743-4172-b7c0-e24fafe1e02f",
   "metadata": {
    "jupyter": {
     "source_hidden": true
    },
    "tags": []
   },
   "outputs": [
    {
     "name": "stdout",
     "output_type": "stream",
     "text": [
      "100000000.0\n",
      "400.0\n",
      "CPU times: total: 250 ms\n",
      "Wall time: 253 ms\n"
     ]
    }
   ],
   "source": [
    "%%time\n",
    "\n",
    "nums_arr = np.ones(item_count)\n",
    "\n",
    "double_nums_arr = nums_arr * 2\n",
    "\n",
    "double_nums_arr_sum = np.sum(double_nums_arr)\n",
    "\n",
    "print(double_nums_arr_sum)\n",
    "print(double_nums_arr.nbytes / 1000000)"
   ]
  },
  {
   "cell_type": "code",
   "execution_count": null,
   "id": "88493c17-43cc-4ece-bb97-d11fa6b25047",
   "metadata": {},
   "outputs": [],
   "source": []
  }
 ],
 "metadata": {
  "kernelspec": {
   "display_name": "jupyter",
   "language": "python",
   "name": "jupyter"
  },
  "language_info": {
   "codemirror_mode": {
    "name": "ipython",
    "version": 3
   },
   "file_extension": ".py",
   "mimetype": "text/x-python",
   "name": "python",
   "nbconvert_exporter": "python",
   "pygments_lexer": "ipython3",
   "version": "3.9.12"
  }
 },
 "nbformat": 4,
 "nbformat_minor": 5
}
